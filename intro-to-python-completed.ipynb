{
  "nbformat": 4,
  "nbformat_minor": 0,
  "metadata": {
    "colab": {
      "name": "Copy of transfer accelerator - intro to python",
      "provenance": [],
      "collapsed_sections": []
    },
    "kernelspec": {
      "name": "python3",
      "display_name": "Python 3"
    },
    "language_info": {
      "name": "python"
    }
  },
  "cells": [
    {
      "cell_type": "markdown",
      "metadata": {
        "id": "jO9W24cd558S"
      },
      "source": [
        "# Transfer Accelerator '21 - Intro to Python!\n",
        "\n",
        "Hey y'all! This file (a Google Colab) contains all the code and workshop materials for the first half of the \"Intro to Python and Applications\" workshop ACM ran for the SEAS Transfer Accelerator '21!\n",
        "\n",
        "This workshop's overall goal is to introduce Google Colab as a tool to code in the Python programming language. Python is a great language to start learning programming. It's extremely popular, and is used in a variety of disciplines: data science and machine learning, scripting, web development, scientific computing, game development, you name it! And, above all, it's relatively English-like and easy to learn :)\n",
        "\n",
        "\n",
        "After a brief explanation on how to use the notebook, we'll cover four key areas of programming logic in Python:\n",
        "\n",
        "1. data types and variables\n",
        "2. booleans and conditionals\n",
        "3. using and writing functions\n",
        "4. lists and loops\n",
        "\n",
        "By the end of the workshop, you'll be equipped with programming skills that are common in **every major programming language**. In other words, they're transferrable to almost any type of programming - which you'll probably be doing!\n",
        "\n",
        "In addition, this will set you up for our intro to python applications notebook, where we'll apply what we learned to do some data science on a real world dataset!\n"
      ]
    },
    {
      "cell_type": "markdown",
      "metadata": {
        "id": "yJuGLy0ki_Ji"
      },
      "source": [
        "**WANT TO USE THIS NOTEBOOK AND MODIFY ITS CONTENTS?**\n",
        "\n",
        "**PLEASE MAKE A COPY!! FILE > SAVE A COPY IN DRIVE**."
      ]
    },
    {
      "cell_type": "markdown",
      "metadata": {
        "id": "v9z6tfKRJ1l7"
      },
      "source": [
        "## Using this notebook\n",
        "\n",
        "You can show/hide cells under headers with the caret/arrow beside \"Using this notebook\"!"
      ]
    },
    {
      "cell_type": "markdown",
      "metadata": {
        "id": "DbG-5plPRCOd"
      },
      "source": [
        "This file is a \"Google Colab\" notebook, which is a way that we can run Python code easily and interactively. It's a service that runs \"Jupyter Notebooks\". Some benefits of this approach to coding:\n",
        "\n",
        "* we don't need to install anything!\n",
        "* we can easily share our code with other people!\n",
        "* we can split up our code into digestible chunks, and document them easily\n",
        "* we can easily embed results of our code, like graphs\n",
        "\n",
        "Google Colabs/Jupyter Notebooks are a very common tool in computer science education, data science and machine learning, and a significant portion of scientific computing. Overall, they're a great tool to use!"
      ]
    },
    {
      "cell_type": "markdown",
      "metadata": {
        "id": "Z-6UMw8gSu_3"
      },
      "source": [
        "One of the key features of Colabs is that all content is split up into \"cells\", like this cell, or the one above.\n",
        "\n",
        "We'll be using two types of cells today:\n",
        "\n",
        "* **\"text\" cells**, like this one - used to document our code and provide instructions\n",
        "* **\"code\" cells**, which can run code. in our case, they will be in Python\n",
        "\n",
        "Let's give a code cell a try! Hover over the `[]` below to hit the play button, and run some code we already wrote."
      ]
    },
    {
      "cell_type": "code",
      "metadata": {
        "id": "xYXH2yEOS2vS",
        "colab": {
          "base_uri": "https://localhost:8080/"
        },
        "outputId": "61ee6b3f-ea91-4d8a-bf8e-6e30614840ae"
      },
      "source": [
        "print(\"Welcome to UCLA!\")"
      ],
      "execution_count": null,
      "outputs": [
        {
          "output_type": "stream",
          "text": [
            "Welcome to UCLA!\n"
          ],
          "name": "stdout"
        }
      ]
    },
    {
      "cell_type": "markdown",
      "metadata": {
        "id": "hUHvQi69TfVM"
      },
      "source": [
        "Cool! Notice that after we ran the code cell, the output shows up. This output persists; so, we can run some code, save the file, and then show other people our results.\n",
        "\n",
        "Now, you try - we haven't gone over any Python yet, but you might imagine that whatever goes between the quotes within `print` gets displayed on the screen. Try printing something else - maybe `print(\"Hello world!\")`, if you're running out of ideas.\n",
        "\n",
        "(if you're curious - `#` in Python defines a comment, which means that line doesn't get run - we'll use it for documentation frequently!)"
      ]
    },
    {
      "cell_type": "code",
      "metadata": {
        "id": "gOQu0QqPTZYT",
        "colab": {
          "base_uri": "https://localhost:8080/"
        },
        "outputId": "d83e8d95-84c7-470e-ef9a-3919d26ba883"
      },
      "source": [
        "# write your code here! \n",
        "\n",
        "print(\"evan is cool\")"
      ],
      "execution_count": null,
      "outputs": [
        {
          "output_type": "stream",
          "text": [
            "evan is cool\n"
          ],
          "name": "stdout"
        }
      ]
    },
    {
      "cell_type": "markdown",
      "metadata": {
        "id": "j065BLwjT39u"
      },
      "source": [
        "Great! Other than that, Juptyer notebook is pretty intuitive to use. We'll slow-drip in some more of its features soon. For now, it's time to get started with Python!"
      ]
    },
    {
      "cell_type": "markdown",
      "metadata": {
        "id": "Hh6zvzN0UCZm"
      },
      "source": [
        "## First Steps in Python and Data Types"
      ]
    },
    {
      "cell_type": "markdown",
      "metadata": {
        "id": "FsTvobh2Wjkp"
      },
      "source": [
        "Before we delve into some theory, let's just have a bit of exploration with Python as a programming language. As we mentioned earlier, `print()` prints out whatever we put in. Let's explore some basic operations that we see in most programming languages."
      ]
    },
    {
      "cell_type": "code",
      "metadata": {
        "id": "rtx6xHd8eY-8",
        "colab": {
          "base_uri": "https://localhost:8080/"
        },
        "outputId": "bc10975d-8883-4586-dd70-63b164afb734"
      },
      "source": [
        "# if you put something in quotes (called a 'string'), we can treat it as text\n",
        "# we can print text :)\n",
        "print(\"Hello everyone!\")\n",
        "# strings can contain a wide variety of characters\n",
        "print(\"A1234 🥺 Table Flip (ノ°Д°）ノ︵ ┻━┻ -\")"
      ],
      "execution_count": null,
      "outputs": [
        {
          "output_type": "stream",
          "text": [
            "Hello everyone!\n",
            "A1234 🥺 Table Flip (ノ°Д°）ノ︵ ┻━┻ -\n"
          ],
          "name": "stdout"
        }
      ]
    },
    {
      "cell_type": "code",
      "metadata": {
        "id": "0HRUj5ntfsDs",
        "colab": {
          "base_uri": "https://localhost:8080/"
        },
        "outputId": "e764a61f-d0c0-44d3-f9c1-10801faac389"
      },
      "source": [
        "# we can also print numbers! note that there are no quotes here\n",
        "print(42)\n",
        "# we can also do math with said numbers!\n",
        "print(9 + 10)    # not 21 :(\n",
        "print(83 - 41)\n",
        "print(3 * 3 * 3) \n",
        "print(21/4)      # note - here, this does float division - different from other languages!\n",
        "print(2**8)      # the ** is a shorthand for \"to the power to\"\n",
        "print(301%17)    # the % here means \"modulus\", or get the remainder"
      ],
      "execution_count": null,
      "outputs": [
        {
          "output_type": "stream",
          "text": [
            "42\n",
            "19\n",
            "42\n",
            "27\n",
            "5.25\n",
            "256\n",
            "12\n"
          ],
          "name": "stdout"
        }
      ]
    },
    {
      "cell_type": "code",
      "metadata": {
        "id": "uQN4yNb6iact",
        "colab": {
          "base_uri": "https://localhost:8080/",
          "height": 189
        },
        "outputId": "6ec7f8e3-fcc7-4ff0-d0c4-f23544d6db0d"
      },
      "source": [
        "# what happens if we add a number and a string?\n",
        "print(\"the meaning of life is \" + 42)"
      ],
      "execution_count": null,
      "outputs": [
        {
          "output_type": "error",
          "ename": "TypeError",
          "evalue": "ignored",
          "traceback": [
            "\u001b[0;31m---------------------------------------------------------------------------\u001b[0m",
            "\u001b[0;31mTypeError\u001b[0m                                 Traceback (most recent call last)",
            "\u001b[0;32m<ipython-input-6-b1c51222f6ca>\u001b[0m in \u001b[0;36m<module>\u001b[0;34m()\u001b[0m\n\u001b[1;32m      1\u001b[0m \u001b[0;31m# what happens if we add a number and a string?\u001b[0m\u001b[0;34m\u001b[0m\u001b[0;34m\u001b[0m\u001b[0;34m\u001b[0m\u001b[0m\n\u001b[0;32m----> 2\u001b[0;31m \u001b[0mprint\u001b[0m\u001b[0;34m(\u001b[0m\u001b[0;34m\"the meaning of life is \"\u001b[0m \u001b[0;34m+\u001b[0m \u001b[0;36m42\u001b[0m\u001b[0;34m)\u001b[0m\u001b[0;34m\u001b[0m\u001b[0;34m\u001b[0m\u001b[0m\n\u001b[0m",
            "\u001b[0;31mTypeError\u001b[0m: can only concatenate str (not \"int\") to str"
          ]
        }
      ]
    },
    {
      "cell_type": "markdown",
      "metadata": {
        "id": "4efipku5igKF"
      },
      "source": [
        "Uh oh! What happened here?\n",
        "\n",
        "We've ~ discovered ~ that Python has a concept of \"types\"! So far, we've seen that some times of data are numbers (integers, to be exact), and others are strings. Some operations can only be done to certain data types. It may not make sense to add a number and a string, nor would it make sense to multiply a string by a number.\n",
        "\n",
        "\"Types\" are a concern in all (or, almost all) programming languages. That being said, in Python they can be a bit tricky to find, since we don't explicitly say where a type is."
      ]
    },
    {
      "cell_type": "code",
      "metadata": {
        "id": "ELv1_xGTP3NZ",
        "colab": {
          "base_uri": "https://localhost:8080/"
        },
        "outputId": "53042384-8f90-446d-8361-1d42b979e70d"
      },
      "source": [
        "# we can, however, add a string and a string:\n",
        "print(\"Hello \" + \"3\")"
      ],
      "execution_count": null,
      "outputs": [
        {
          "output_type": "stream",
          "text": [
            "Hello 3\n"
          ],
          "name": "stdout"
        }
      ]
    },
    {
      "cell_type": "markdown",
      "metadata": {
        "id": "nKFYaKhcP8qA"
      },
      "source": [
        "The key insight here: `\"3\"` is different from `3`!\n",
        "\n",
        "We can force conversions between types; using the `int()` function, or the `str()` function (we'll get to how functions work soon, you'll have to trust us for a moment):"
      ]
    },
    {
      "cell_type": "code",
      "metadata": {
        "id": "JKPF_H7KVeRu",
        "colab": {
          "base_uri": "https://localhost:8080/"
        },
        "outputId": "3f1984df-0b72-4729-ccf6-674a8b91772b"
      },
      "source": [
        "print(3 + int(\"4\"))\n",
        "print(\"My favourite number is: \" + str(21))"
      ],
      "execution_count": null,
      "outputs": [
        {
          "output_type": "stream",
          "text": [
            "7\n",
            "My favourite number is: 21\n"
          ],
          "name": "stdout"
        }
      ]
    },
    {
      "cell_type": "markdown",
      "metadata": {
        "id": "hJGrhhw2YtvB"
      },
      "source": [
        "### Check your Understanding\n",
        "\n",
        "\n",
        "Let's do a few quick exercises to check your understanding on data types!\n",
        "\n"
      ]
    },
    {
      "cell_type": "code",
      "metadata": {
        "id": "fQFJx73rYxDF"
      },
      "source": [
        "# what is the type of the following statements?\n",
        "3\n",
        "\"hello!\"\n",
        "3 + 6\n",
        "\"Hello from \" + \"UCLA!\"\n",
        "\"I love the number \" + \"21\""
      ],
      "execution_count": null,
      "outputs": []
    },
    {
      "cell_type": "code",
      "metadata": {
        "id": "gJfsi7OFZWSl",
        "colab": {
          "base_uri": "https://localhost:8080/"
        },
        "outputId": "ab4ecf3b-6035-4424-b07b-1815dc61c599"
      },
      "source": [
        "# what can we change about the below line to make it work?\n",
        "print(\"I ate \" + str(3) + \" burrito bowls from Rendezvous!\")"
      ],
      "execution_count": null,
      "outputs": [
        {
          "output_type": "stream",
          "text": [
            "I ate 3 burrito bowls from Rendezvous!\n"
          ],
          "name": "stdout"
        }
      ]
    },
    {
      "cell_type": "code",
      "metadata": {
        "id": "qlDcu7NoZV6o",
        "colab": {
          "base_uri": "https://localhost:8080/"
        },
        "outputId": "686ed94e-bfb1-486b-d43c-da4ae42a0ea5"
      },
      "source": [
        "# write a statement that converts 17:00 military time to AM/PM, and prints it out\n",
        "print(str(17%12) + \"am/pm\")"
      ],
      "execution_count": null,
      "outputs": [
        {
          "output_type": "stream",
          "text": [
            "5am/pm\n"
          ],
          "name": "stdout"
        }
      ]
    },
    {
      "cell_type": "markdown",
      "metadata": {
        "id": "Y7BDbXOOYv3S"
      },
      "source": [
        "### Summary"
      ]
    },
    {
      "cell_type": "markdown",
      "metadata": {
        "id": "QaafJPrkVeq1"
      },
      "source": [
        "In this section, we learned:\n",
        "\n",
        "* about `print()` \n",
        "* that there are (at least) two data types, integers (`int`) and strings (`str`); we also briefly mentioned decimals (`float`)\n",
        "* how to use a common set of operators on integers, like `+`, `-`, `*`, `/`, `%`, `**`\n",
        "* how to add two strings together with `+`\n",
        "* that we can convert types with `int()` and `str()`\n",
        "\n",
        "There are many other data types, as we'll gradually learn over the course of this notebook. In addition, we can make our own data types (something we won't cover today), using *classes*.\n",
        "\n",
        "So far though, we've only been printing singular values; what makes Python better than a calculator?"
      ]
    },
    {
      "cell_type": "markdown",
      "metadata": {
        "id": "6FVaRY8pRqzu"
      },
      "source": [
        "## Variables"
      ]
    },
    {
      "cell_type": "markdown",
      "metadata": {
        "id": "ZwkcrY9PWe1J"
      },
      "source": [
        "Variables in programming are *kind of* like variables in math! Programming variables are like a box that holds a certain value; that value can change (i.e. is *variable*) over time, and we can inspect and change the contents to do ~ cool things ~.\n",
        "\n",
        "In Python, all we need to do to declare a variable is give it a name (this is unlike languages like C++ or Java that also require a type). Names can have letters, numbers (but can't start with them), and a few other characters.\n",
        "\n",
        "The general form is `<NAME> = <VALUE>` (without the angle brackets):"
      ]
    },
    {
      "cell_type": "code",
      "metadata": {
        "id": "wDDT0pPESL5J",
        "colab": {
          "base_uri": "https://localhost:8080/"
        },
        "outputId": "1340b192-24b9-4b2a-841e-ae830e7eb646"
      },
      "source": [
        "meaning_of_life = 42\n",
        "print(meaning_of_life)\n",
        "\n",
        "greeting = \"hello\"\n",
        "print(greeting)\n",
        "\n",
        "twenty_one = 9 + 10\n",
        "print(twenty_one)"
      ],
      "execution_count": null,
      "outputs": [
        {
          "output_type": "stream",
          "text": [
            "42\n",
            "hello\n",
            "19\n"
          ],
          "name": "stdout"
        }
      ]
    },
    {
      "cell_type": "markdown",
      "metadata": {
        "id": "K5ukvNHCTHC8"
      },
      "source": [
        "A special feature of notebooks (Colab or otherwise) is that variables persist throughout code cells."
      ]
    },
    {
      "cell_type": "code",
      "metadata": {
        "id": "T75SuzSWTMfh",
        "colab": {
          "base_uri": "https://localhost:8080/"
        },
        "outputId": "a83765a7-097f-4aba-9ea6-af819ab538e4"
      },
      "source": [
        "# we haven't defined greeting in this code cell, but we did before!\n",
        "print(greeting)"
      ],
      "execution_count": null,
      "outputs": [
        {
          "output_type": "stream",
          "text": [
            "hello\n"
          ],
          "name": "stdout"
        }
      ]
    },
    {
      "cell_type": "markdown",
      "metadata": {
        "id": "CSNoU9G-TYhd"
      },
      "source": [
        "We can change variables by reassigning them. The syntax is exactly the same as defining them:"
      ]
    },
    {
      "cell_type": "code",
      "metadata": {
        "id": "oAhLw_a5Tcnp",
        "colab": {
          "base_uri": "https://localhost:8080/"
        },
        "outputId": "997a101f-2a24-48a1-f7a4-4723c33f7e6e"
      },
      "source": [
        "greeting = \"bonjour\"\n",
        "print(greeting)\n",
        "\n",
        "greeting = \"hola\"\n",
        "print(greeting)\n",
        "\n",
        "greeting = 53 # huh?\n",
        "print(greeting)"
      ],
      "execution_count": null,
      "outputs": [
        {
          "output_type": "stream",
          "text": [
            "bonjour\n",
            "hola\n",
            "53\n"
          ],
          "name": "stdout"
        }
      ]
    },
    {
      "cell_type": "markdown",
      "metadata": {
        "id": "lD3piOX9VMNY"
      },
      "source": [
        "From above, we've learned that a variable doesn't have a guaranteed type - it can change at any time!\n",
        "\n",
        "We can also add items to variables and subtract them. This is a bit different from math: the statement `x = x + 1` is impossible in math, but in programming means \"add one to the value of `x`\"."
      ]
    },
    {
      "cell_type": "code",
      "metadata": {
        "id": "x1SZXGGNVQqL",
        "colab": {
          "base_uri": "https://localhost:8080/"
        },
        "outputId": "2e4c7e4a-a43f-443a-ba1f-336b0e79c54c"
      },
      "source": [
        "total_sum = 0 \n",
        "print(total_sum)\n",
        "total_sum = total_sum + 1\n",
        "print(total_sum)\n",
        "\n",
        "# the above was too wordy... how about \n",
        "total_sum += 1 # this is the same as total_sum = total_sum + 1\n",
        "print(total_sum)"
      ],
      "execution_count": null,
      "outputs": [
        {
          "output_type": "stream",
          "text": [
            "0\n",
            "1\n",
            "2\n"
          ],
          "name": "stdout"
        }
      ]
    },
    {
      "cell_type": "markdown",
      "metadata": {
        "id": "gY5bTyqNbE9E"
      },
      "source": [
        "### Check your Understanding\n",
        "\n",
        "\n",
        "Let's do a few quick exercises to check your understanding on variables!\n",
        "\n"
      ]
    },
    {
      "cell_type": "code",
      "metadata": {
        "id": "XSvGMYCybulv",
        "colab": {
          "base_uri": "https://localhost:8080/"
        },
        "outputId": "c9584d9c-374a-46ec-a3e0-bf306554cedd"
      },
      "source": [
        "# declare a variable called hours_slept of how much you slept last night!\n",
        "\n",
        "# your thing goes here!\n",
        "\n",
        "hours_slept = 10\n",
        "\n",
        "print(\"Last night, I slept \" + str(hours_slept) + \" hours\")"
      ],
      "execution_count": null,
      "outputs": [
        {
          "output_type": "stream",
          "text": [
            "Last night, I slept 10 hours\n"
          ],
          "name": "stdout"
        }
      ]
    },
    {
      "cell_type": "code",
      "metadata": {
        "id": "DCFqqDuRb4aK",
        "colab": {
          "base_uri": "https://localhost:8080/"
        },
        "outputId": "d6373254-dc69-4382-c605-8e1ed61ff18f"
      },
      "source": [
        "# recall that kinetic energy is mv^2/2. can you complete the variable definition here?\n",
        "mass = 5\n",
        "velocity = 10 \n",
        "\n",
        "ke = str((mass * velocity**2)/2) + \"J\"\n",
        "\n",
        "print(\"The kinetic energy is \" + ke) # do it WITHOUT changing this line!"
      ],
      "execution_count": null,
      "outputs": [
        {
          "output_type": "stream",
          "text": [
            "The kinetic energy is 250.0J\n"
          ],
          "name": "stdout"
        }
      ]
    },
    {
      "cell_type": "code",
      "metadata": {
        "id": "0FwE_PsrbexQ",
        "colab": {
          "base_uri": "https://localhost:8080/"
        },
        "outputId": "b1e1ad19-e250-429f-e021-bb84fd804280"
      },
      "source": [
        "# let's do some guessing on something we haven't seen before. what do you think this does?\n",
        "number_of_students = 100\n",
        "number_of_students -= 5\n",
        "# check by uncommenting this line\n",
        "print(number_of_students)"
      ],
      "execution_count": null,
      "outputs": [
        {
          "output_type": "stream",
          "text": [
            "95\n"
          ],
          "name": "stdout"
        }
      ]
    },
    {
      "cell_type": "markdown",
      "metadata": {
        "id": "vGopchkqbIhP"
      },
      "source": [
        "### Summary"
      ]
    },
    {
      "cell_type": "markdown",
      "metadata": {
        "id": "SJOff1HUWTNi"
      },
      "source": [
        "In this section, we learned about:\n",
        "\n",
        "* what variables are\n",
        "* how to declare (create) a variable\n",
        "* how to reassign a new value to it\n",
        "* the `+=` shorthand\n",
        "\n",
        "Great! So far though, we haven't done anything too special yet ... what about some logic?"
      ]
    },
    {
      "cell_type": "markdown",
      "metadata": {
        "id": "NCvfNMMbWWaR"
      },
      "source": [
        "## Booleans and Conditionals"
      ]
    },
    {
      "cell_type": "markdown",
      "metadata": {
        "id": "xCqKSjrpWWfS"
      },
      "source": [
        "Let's first introduce a new data type, the **boolean**. A boolean can either be `True` or `False`; there's no exception."
      ]
    },
    {
      "cell_type": "code",
      "metadata": {
        "id": "QIYjnunzWuUn",
        "colab": {
          "base_uri": "https://localhost:8080/"
        },
        "outputId": "d956b4dd-8c2c-4d18-8592-d48f6a488fd1"
      },
      "source": [
        "print(True)\n",
        "print(False)"
      ],
      "execution_count": null,
      "outputs": [
        {
          "output_type": "stream",
          "text": [
            "True\n",
            "False\n"
          ],
          "name": "stdout"
        }
      ]
    },
    {
      "cell_type": "markdown",
      "metadata": {
        "id": "9GLObnnqWwWi"
      },
      "source": [
        "Simple, right? Booleans are a very useful data type. We can use them to encode the answer of yes-or-no questions. Let's explore a few simple ones from math:"
      ]
    },
    {
      "cell_type": "code",
      "metadata": {
        "id": "77vfEknLW6Qf",
        "colab": {
          "base_uri": "https://localhost:8080/"
        },
        "outputId": "01861781-577a-4ed1-88aa-b52a89c59076"
      },
      "source": [
        "print(3 > 2)\n",
        "print(42 < 100)\n",
        "\n",
        "num = 52\n",
        "print(num == 52) # note the ==\n",
        "# here, we used two equal signs to check for equality;\n",
        "# one equal sign is used to assign a variable!\n",
        "# this is a **very common** mistake\n",
        "\n",
        "print(num != 52)\n",
        "\n",
        "greeting = \"danke\"\n",
        "print(greeting == \"danke\")"
      ],
      "execution_count": null,
      "outputs": [
        {
          "output_type": "stream",
          "text": [
            "True\n",
            "True\n",
            "True\n",
            "False\n",
            "True\n"
          ],
          "name": "stdout"
        }
      ]
    },
    {
      "cell_type": "markdown",
      "metadata": {
        "id": "0tzEYTHpXpPA"
      },
      "source": [
        "There are also a couple of famous boolean operators in computer science. They operate on some booleans, and then return another boolean.\n",
        "\n",
        "* `a and b`, often stylized as boolean `AND`, is only true if `a == True` AND `b == True`\n",
        "* `a or b`, often stylized as boolean `OR`, is true if either `a == True` OR `b == True`\n",
        "* `not a`, often stylized as boolean `NOT`, flips the boolean value - `True` becomes `False`, and vice-versa.\n",
        "\n",
        "Let's see this in action: "
      ]
    },
    {
      "cell_type": "code",
      "metadata": {
        "id": "O_iCi55zYEIL",
        "colab": {
          "base_uri": "https://localhost:8080/"
        },
        "outputId": "162bc51f-e68f-4c27-a8dd-8e54bcde433a"
      },
      "source": [
        "is_past_7am = True\n",
        "has_meeting = False\n",
        "\n",
        "should_get_up = is_past_7am or has_meeting\n",
        "print(should_get_up)\n",
        "\n",
        "will_get_up = is_past_7am and has_meeting\n",
        "print(will_get_up)\n",
        "\n",
        "is_before_7am = not is_past_7am\n",
        "print(is_before_7am)"
      ],
      "execution_count": null,
      "outputs": [
        {
          "output_type": "stream",
          "text": [
            "True\n",
            "False\n",
            "False\n"
          ],
          "name": "stdout"
        }
      ]
    },
    {
      "cell_type": "markdown",
      "metadata": {
        "id": "L198_Ub-Ypph"
      },
      "source": [
        "Booleans are an extremely powerful part of computer programming! One of the most common use-cases is with **conditionals** (or \"if statements\"), that let us do different things depending on whether or not a condition is true. Let's see an example, **paying special attention to the indentation**."
      ]
    },
    {
      "cell_type": "code",
      "metadata": {
        "id": "4AE1lEaDd66_"
      },
      "source": [
        "machine_is_ready = False \n",
        "\n",
        "if machine_is_ready:\n",
        "  print(\"Machine is ready, let's go!\")"
      ],
      "execution_count": null,
      "outputs": []
    },
    {
      "cell_type": "markdown",
      "metadata": {
        "id": "A3CkJ0oCeGsr"
      },
      "source": [
        "Note that nothing happens, because `machine_is_ready` is false! But..."
      ]
    },
    {
      "cell_type": "code",
      "metadata": {
        "id": "5YLCX4fBeKbk",
        "colab": {
          "base_uri": "https://localhost:8080/"
        },
        "outputId": "466bd001-8823-4178-97d9-6b06b3fb4c67"
      },
      "source": [
        "machine_is_ready = True\n",
        "\n",
        "if machine_is_ready:\n",
        "  print(\"Machine is ready, let's go!\")"
      ],
      "execution_count": null,
      "outputs": [
        {
          "output_type": "stream",
          "text": [
            "Machine is ready, let's go!\n"
          ],
          "name": "stdout"
        }
      ]
    },
    {
      "cell_type": "markdown",
      "metadata": {
        "id": "sojLli3yeLno"
      },
      "source": [
        "Short, but sweet! You can also optionally add an `else` statement that handles the case when it's false."
      ]
    },
    {
      "cell_type": "code",
      "metadata": {
        "id": "Th5VK-zleStP",
        "colab": {
          "base_uri": "https://localhost:8080/"
        },
        "outputId": "99baf65d-3290-405e-ad61-1e47cd4fc2cb"
      },
      "source": [
        "machine_is_ready = False \n",
        "\n",
        "if machine_is_ready:\n",
        "  print(\"Machine is ready, let's go!\")\n",
        "else:\n",
        "  print(\"The machine isn't ready yet, please wait!\")"
      ],
      "execution_count": null,
      "outputs": [
        {
          "output_type": "stream",
          "text": [
            "The machine isn't ready yet, please wait!\n"
          ],
          "name": "stdout"
        }
      ]
    },
    {
      "cell_type": "markdown",
      "metadata": {
        "id": "2T_sk28feZ_s"
      },
      "source": [
        "We can create more complicated boolean statements:"
      ]
    },
    {
      "cell_type": "code",
      "metadata": {
        "id": "oXvbop1sedTS"
      },
      "source": [
        "a = 3\n",
        "b = 5\n",
        "if b % a == 0:\n",
        "  print(\"a divides b perfectly!\")\n",
        "else:\n",
        "  print(\"a divides b with remainder \" + str(b%a))\n",
        "\n",
        "password = \"password123\"\n",
        "if password == \"password123\":\n",
        "  print(\"You're in!\")\n",
        "else:\n",
        "  print(\"Incorrect password.\")"
      ],
      "execution_count": null,
      "outputs": []
    },
    {
      "cell_type": "markdown",
      "metadata": {
        "id": "hzOmJgGEe-Df"
      },
      "source": [
        "Sometimes, we want to use multiple if statements. We can do this with `elif`, which means \"else if\" - the first condition was false, but the second may be true, etc."
      ]
    },
    {
      "cell_type": "code",
      "metadata": {
        "id": "njT4jor0fFJo",
        "colab": {
          "base_uri": "https://localhost:8080/"
        },
        "outputId": "0f0b72eb-6b94-4c22-bc86-dd5eac9fa466"
      },
      "source": [
        "a = 3\n",
        "b = 5\n",
        "if a == 0:\n",
        "  print(\"a is zero! we can't say anything!\")\n",
        "elif b % a == 0:\n",
        "  print(\"a divides b perfectly!\")\n",
        "else:\n",
        "  print(\"a divides b with remainder \" + str(b%a))"
      ],
      "execution_count": null,
      "outputs": [
        {
          "output_type": "stream",
          "text": [
            "a divides b with remainder 2\n"
          ],
          "name": "stdout"
        }
      ]
    },
    {
      "cell_type": "markdown",
      "metadata": {
        "id": "invYIDaxf9lY"
      },
      "source": [
        "### Check your understanding\n",
        "\n",
        "Let's do a few quick exercises to check your understanding on booleans and conditionals!"
      ]
    },
    {
      "cell_type": "code",
      "metadata": {
        "id": "hVyfaxyhgeIX",
        "colab": {
          "base_uri": "https://localhost:8080/"
        },
        "outputId": "531aad89-1b9b-4ab5-8aa8-d74937d3d54c"
      },
      "source": [
        "# which of these are true?\n",
        "# (to check your answer, feel free to print each one)\n",
        "\n",
        "\"hello\" == \"hi\"\n",
        "10**2 > 99\n",
        "10 % 3 != 2\n",
        "(\"hi\" != \"hi\") or (3 * 3 * 3 > 30)\n",
        "(100 > 15) and (100 % 20 == 0)\n",
        "not True\n",
        "3 == \"3\" # this one is tricky!"
      ],
      "execution_count": null,
      "outputs": [
        {
          "output_type": "execute_result",
          "data": {
            "text/plain": [
              "False"
            ]
          },
          "metadata": {
            "tags": []
          },
          "execution_count": 33
        }
      ]
    },
    {
      "cell_type": "code",
      "metadata": {
        "id": "j-fwdsluhK8M",
        "colab": {
          "base_uri": "https://localhost:8080/"
        },
        "outputId": "159ecedd-78fb-4dad-e523-dd0d4726704c"
      },
      "source": [
        "# uh oh, we wrote some code and not sure why it's wrong\n",
        "# can you fix it? \n",
        "# hint: you should only need to change one line\n",
        "\n",
        "VIP = False\n",
        "was_let_in = False\n",
        "\n",
        "if not VIP:\n",
        "  print(\"Sorry, you can't come in.\")\n",
        "else:\n",
        "  print(\"VIP? Nice, welcome in!\")\n",
        "  was_let_in = True \n",
        "\n",
        "print(\"Were you let in? \" + str(was_let_in)) # this should say False!"
      ],
      "execution_count": null,
      "outputs": [
        {
          "output_type": "stream",
          "text": [
            "Sorry, you can't come in.\n",
            "Were you let in? False\n"
          ],
          "name": "stdout"
        }
      ]
    },
    {
      "cell_type": "code",
      "metadata": {
        "id": "CQKMZeuniBxD"
      },
      "source": [
        "# let's do a classic programming exercise.\n",
        "# we have the number x; if:\n",
        "# - x is divisible by 3, print \"fizz\"\n",
        "# - x is divisible by 5, print \"buzz\"\n",
        "# - x is divisible by 3 AND 5, print \"fizzbuzz\"\n",
        "# - otherwise, just print the number\n",
        "# can you fill out the conditional statement?\n",
        "\n",
        "x = ... # should work for all x!\n",
        "\n",
        "# ... your stuff here!\n",
        "\n"
      ],
      "execution_count": null,
      "outputs": []
    },
    {
      "cell_type": "markdown",
      "metadata": {
        "id": "kFkQ11KbgD8g"
      },
      "source": [
        "### Summary\n"
      ]
    },
    {
      "cell_type": "markdown",
      "metadata": {
        "id": "b5ilGD1tibAx"
      },
      "source": [
        "We covered:\n",
        "\n",
        "* booleans as a data type that's either `True` or `False`\n",
        "* mathematical boolean operators like `>`, `<`, `==`, and `!=`\n",
        "* boolean logic operators `and`, `or`, and `not`\n",
        "* `if`, `elif`, and `else` as conditional control **flow**"
      ]
    },
    {
      "cell_type": "markdown",
      "metadata": {
        "id": "w06P8iKojVkC"
      },
      "source": [
        "## Functions\n"
      ]
    },
    {
      "cell_type": "markdown",
      "metadata": {
        "id": "L7ydqUNvjcuY"
      },
      "source": [
        "Remember functions in math, that take an input and spit out an output? It turns out, programming has the exact same concept.\n",
        "\n",
        "*(as a note, we intentionally introduce functions this early. we think it makes sense :) )*\n",
        "\n",
        "We've actually used functions already: `print()` is a function that takes in one input (whatever we put inside the `()`), and, well, prints it out to the screen. And we've used some other functions too - `int()` takes in anything and returns an integer, while `str()` does the same but returns a string!\n",
        "\n",
        "Just using functions is no fun. Let's write our own!!"
      ]
    },
    {
      "cell_type": "markdown",
      "metadata": {
        "id": "hj1km1r4j8tV"
      },
      "source": [
        "Remember when we were calculating the kinetic energy of something earlier? As a reminder,\n",
        "\n",
        "$$K = \\frac{mv^2}{2}$$\n",
        "\n",
        "It'd be great if we could give the programmer a tool to put in $m$ and $v$, and get the answer, instead of writing out everything.\n",
        "\n",
        "Turns out, we can do just that:"
      ]
    },
    {
      "cell_type": "code",
      "metadata": {
        "id": "BBBBh7U-kLZy"
      },
      "source": [
        "def get_kinetic_energy(m,v):\n",
        "  return m * (v**2) / 2"
      ],
      "execution_count": null,
      "outputs": []
    },
    {
      "cell_type": "code",
      "metadata": {
        "id": "vhnSdPyQkQej",
        "colab": {
          "base_uri": "https://localhost:8080/"
        },
        "outputId": "cfb0eec6-d020-4704-a7d4-c55d91b77179"
      },
      "source": [
        "print(get_kinetic_energy(10,5))\n",
        "print(get_kinetic_energy(5,10))\n",
        "print(get_kinetic_energy(534,185667))"
      ],
      "execution_count": null,
      "outputs": [
        {
          "output_type": "stream",
          "text": [
            "125.0\n",
            "250.0\n",
            "9204086715363.0\n"
          ],
          "name": "stdout"
        }
      ]
    },
    {
      "cell_type": "markdown",
      "metadata": {
        "id": "n4Nf7tjakhK_"
      },
      "source": [
        "Woah! First, note that the function \"sticks around\" outside the cells that it was defined in. That's cool :) \n",
        "\n",
        "But secondly, that was a lot of stuff going on! Let's break it down:\n",
        "\n",
        "* `def` is a keyword that means \"we're defining a function now!\"\n",
        "* `get_kinetic_energy` is the name of the function\n",
        "* anything inside the `()` are called **parameters** for your function; they're pieces of information, stored in variables, that are given to your function\n",
        "* inside the function (**noting the indentation**), we do some math\n",
        "* we `return` the math; that means that we mark it as the output of the function!"
      ]
    },
    {
      "cell_type": "markdown",
      "metadata": {
        "id": "sMcph_ColNsb"
      },
      "source": [
        "Now that we're in the world of functions, we can really do a ton of powerful stuff. Let's run through a few more prototypical examples:"
      ]
    },
    {
      "cell_type": "code",
      "metadata": {
        "id": "z5Pw0Dugl9Hn",
        "colab": {
          "base_uri": "https://localhost:8080/"
        },
        "outputId": "fcfb3556-8221-4a32-835e-2a7f82ba2fe8"
      },
      "source": [
        "# a very simple function\n",
        "def is_even(num):\n",
        "  return num % 2 == 0\n",
        "is_even(8)"
      ],
      "execution_count": null,
      "outputs": [
        {
          "output_type": "execute_result",
          "data": {
            "text/plain": [
              "True"
            ]
          },
          "metadata": {
            "tags": []
          },
          "execution_count": 39
        }
      ]
    },
    {
      "cell_type": "code",
      "metadata": {
        "id": "vsi6TXf6l3Zd",
        "colab": {
          "base_uri": "https://localhost:8080/"
        },
        "outputId": "8424125e-7fed-4503-bca4-06bfb734f8a9"
      },
      "source": [
        "# a function that calls another function\n",
        "def is_odd(num):\n",
        "  return not is_even(num)\n",
        "is_odd(8)"
      ],
      "execution_count": null,
      "outputs": [
        {
          "output_type": "execute_result",
          "data": {
            "text/plain": [
              "False"
            ]
          },
          "metadata": {
            "tags": []
          },
          "execution_count": 40
        }
      ]
    },
    {
      "cell_type": "code",
      "metadata": {
        "id": "cTXuNsiGlS2l",
        "colab": {
          "base_uri": "https://localhost:8080/"
        },
        "outputId": "58a51a94-d09f-45d5-c17a-fc5fefba98e1"
      },
      "source": [
        "# a function that takes in one parameter and doesn't return anything\n",
        "def greeter(language):\n",
        "  if language == \"french\":\n",
        "    print(\"Bonjour!\")\n",
        "  elif language == \"chinese\":\n",
        "    print(\"你好\")\n",
        "  elif language == \"hindi\":\n",
        "    print(\"नमस्ते\")\n",
        "  else:\n",
        "    print(\"Hello!\")\n",
        "\n",
        "greeter(\"french\")\n",
        "greeter(\"chinese\")\n",
        "greeter(\"hindi\")\n",
        "greeter(\"english\")\n",
        "greeter(\"japanese\")"
      ],
      "execution_count": null,
      "outputs": [
        {
          "output_type": "stream",
          "text": [
            "Bonjour!\n",
            "你好\n",
            "नमस्ते\n",
            "Hello!\n",
            "Hello!\n"
          ],
          "name": "stdout"
        }
      ]
    },
    {
      "cell_type": "code",
      "metadata": {
        "id": "vUcnhHHLmVUB",
        "colab": {
          "base_uri": "https://localhost:8080/"
        },
        "outputId": "8ecd47b1-7004-435b-e384-a686ef250531"
      },
      "source": [
        "# using a function as an intermediary calculation\n",
        "total_energy = 1000\n",
        "potential_energy = total_energy - get_kinetic_energy(10,5)\n",
        "print(potential_energy)"
      ],
      "execution_count": null,
      "outputs": [
        {
          "output_type": "stream",
          "text": [
            "875.0\n"
          ],
          "name": "stdout"
        }
      ]
    },
    {
      "cell_type": "markdown",
      "metadata": {
        "id": "K2fHsZfel02c"
      },
      "source": [
        "Functions seem like a simple concept, but they're *extremely* powerful. There's also quite a bit about them that we won't cover today; but, if you're interested in functions, the realm of **functional programming** might be interesting to you!\n",
        "\n",
        "Now that we know how to use and write functions, we can *really* start programming."
      ]
    },
    {
      "cell_type": "markdown",
      "metadata": {
        "id": "Q2frGq_Um8ey"
      },
      "source": [
        "### Check your understanding\n"
      ]
    },
    {
      "cell_type": "markdown",
      "metadata": {
        "id": "GBWnzcPCnFI9"
      },
      "source": [
        "Let's do a few quick exercises to check your understanding on functions! We'll also chuck a few fun bonus problems in this section, if you're really interested."
      ]
    },
    {
      "cell_type": "code",
      "metadata": {
        "id": "Qbw4dwbbnFZ3",
        "colab": {
          "base_uri": "https://localhost:8080/"
        },
        "outputId": "e32af5e7-73a4-437b-e68a-96f19a6495ca"
      },
      "source": [
        "# write a function that checks if a number is positive or not\n",
        "def isPositive(num):\n",
        "  return num > 0\n",
        "\n",
        "print(isPositive(-1)) # False\n",
        "print(isPositive(0))  # False\n",
        "print(isPositive(1))  # True"
      ],
      "execution_count": null,
      "outputs": [
        {
          "output_type": "stream",
          "text": [
            "False\n",
            "False\n",
            "True\n"
          ],
          "name": "stdout"
        }
      ]
    },
    {
      "cell_type": "code",
      "metadata": {
        "id": "LG62sxqxnrt-",
        "colab": {
          "base_uri": "https://localhost:8080/"
        },
        "outputId": "fab79508-f4af-4a42-fe40-e9edf6bb26c5"
      },
      "source": [
        "# write a function that takes in a user's name, and then prints \"Hello, ___\"\n",
        "\n",
        "def greet(name):\n",
        "  print(\"Hello, \" + name)\n",
        "\n",
        "greet(\"Matt\") #Hello, Matt\n",
        "greet(\"John\")\n",
        "greet(\"Sharvani\")\n",
        "greet(\"Ellie\")"
      ],
      "execution_count": null,
      "outputs": [
        {
          "output_type": "stream",
          "text": [
            "Hello, Matt\n",
            "Hello, John\n",
            "Hello, Sharvani\n",
            "Hello, Ellie\n"
          ],
          "name": "stdout"
        }
      ]
    },
    {
      "cell_type": "code",
      "metadata": {
        "id": "OhXb7NxhnVi5"
      },
      "source": [
        "# Remember FizzBuzz from above? Make it a function :)\n",
        "\n",
        "# as a reminder...\n",
        "# # we have the number x; if:\n",
        "# - x is divisible by 3, print \"fizz\"\n",
        "# - x is divisible by 5, print \"buzz\"\n",
        "# - x is divisible by 3 AND 5, print \"fizzbuzz\"\n",
        "# - otherwise, just print the number\n",
        "# can you fill out the conditional statement?\n",
        "\n",
        "\n",
        "fizzbuzz(3)\n",
        "fizzbuzz(35)\n",
        "fizzbuzz(150)\n",
        "fizzbuzz(-1)"
      ],
      "execution_count": null,
      "outputs": []
    },
    {
      "cell_type": "code",
      "metadata": {
        "id": "KvtlGcpmnod-"
      },
      "source": [
        "# BONUS (feel free to skip)\n",
        "\n",
        "# what does this function output? and more importantly, what does it do?\n",
        "\n",
        "def weird(x,a):\n",
        "  if x < 1:\n",
        "    return a \n",
        "  return weird(x - 5, a + 1)\n",
        "\n",
        "print(weird(21, 0))\n",
        "print(weird(900, 0))"
      ],
      "execution_count": null,
      "outputs": []
    },
    {
      "cell_type": "code",
      "metadata": {
        "id": "3VWSLeHJo-wB"
      },
      "source": [
        "# BONUS (feel free to skip)\n",
        "\n",
        "a = 5\n",
        "\n",
        "def owo(a):\n",
        "  a = 10\n",
        "\n",
        "# what do you think happens here?\n",
        "owo(6)\n",
        "print(a)"
      ],
      "execution_count": null,
      "outputs": []
    },
    {
      "cell_type": "markdown",
      "metadata": {
        "id": "tKLCI3Vfo3Cr"
      },
      "source": [
        "### Summary\n",
        "\n",
        "We introduced functions as a way to reduce duplication and abstract commonly used statements. In particular, we mentioned:\n",
        "\n",
        "* how to define functions with `def`\n",
        "* defining the inputs for the function (the *parameters*)\n",
        "* what `return` does\n",
        "* how to use a function we wrote"
      ]
    },
    {
      "cell_type": "markdown",
      "metadata": {
        "id": "9W6ZC3PQpfcc"
      },
      "source": [
        "## Lists and Loops"
      ]
    },
    {
      "cell_type": "markdown",
      "metadata": {
        "id": "MvJ8MWolpg_e"
      },
      "source": [
        "So far, we've dealt with two restrictions:\n",
        "\n",
        "* each variable can only hold one value\n",
        "* we can only do things once\n",
        "\n",
        "Let's fix both of those :) "
      ]
    },
    {
      "cell_type": "markdown",
      "metadata": {
        "id": "-NL-4Hr-pyMh"
      },
      "source": [
        "First, let's resolve the first problem. We'll introduce \"lists\", a way that Python keeps track of multiple pieces of data. In Python, lists are defined by `[]`, with each element split up by commas. Let's see a few examples:"
      ]
    },
    {
      "cell_type": "code",
      "metadata": {
        "id": "YZIgeN7Ipxpf"
      },
      "source": [
        "some_even_numbers = [0,2,4,6]\n",
        "some_names = [\"Wes\", \"Allaine\", \"Ryan\", \"JJ\"]\n",
        "should_i_call_him = [False, False, False]\n",
        "lists_can_have_different_types = [0, \"owo\", False]"
      ],
      "execution_count": null,
      "outputs": []
    },
    {
      "cell_type": "markdown",
      "metadata": {
        "id": "s8Esm4c9qXZP"
      },
      "source": [
        "We can access the `n`th item of a list (counting from `0`) with another `[]` syntax:"
      ]
    },
    {
      "cell_type": "code",
      "metadata": {
        "id": "aYF3WCw5qhZv",
        "colab": {
          "base_uri": "https://localhost:8080/"
        },
        "outputId": "3d09e22c-2289-4600-b87a-f6205354dced"
      },
      "source": [
        "some_even_numbers = [0,2,4,6]\n",
        "print(some_even_numbers[0])\n",
        "print(some_even_numbers[1])\n",
        "print(some_even_numbers[2])\n",
        "print(some_even_numbers[3])\n",
        "\n",
        "some_even_numbers[0] = 8\n",
        "print(some_even_numbers)"
      ],
      "execution_count": null,
      "outputs": [
        {
          "output_type": "stream",
          "text": [
            "0\n",
            "2\n",
            "4\n",
            "6\n",
            "[8, 2, 4, 6]\n"
          ],
          "name": "stdout"
        }
      ]
    },
    {
      "cell_type": "markdown",
      "metadata": {
        "id": "LBz_npcHrrxI"
      },
      "source": [
        "We can add items to the back of a list with `.append()`, and remove them with `.pop()`."
      ]
    },
    {
      "cell_type": "code",
      "metadata": {
        "id": "6SSGq0v_rviI",
        "colab": {
          "base_uri": "https://localhost:8080/"
        },
        "outputId": "7b901887-aa98-41f8-ac7f-523c1afba01e"
      },
      "source": [
        "some_even_numbers.append(10)\n",
        "print(some_even_numbers)\n",
        "\n",
        "some_even_numbers.pop()\n",
        "print(some_even_numbers)\n",
        "\n",
        "some_even_numbers.pop(1)\n",
        "print(some_even_numbers)"
      ],
      "execution_count": null,
      "outputs": [
        {
          "output_type": "stream",
          "text": [
            "[8, 2, 4, 6, 10]\n",
            "[8, 2, 4, 6]\n",
            "[8, 4, 6]\n"
          ],
          "name": "stdout"
        }
      ]
    },
    {
      "cell_type": "markdown",
      "metadata": {
        "id": "x4p0oJBKr70n"
      },
      "source": [
        "There's a ton more we can do with lists, but we'll leave it at there for now. If you want to do something with a list, chances are that you can - just try googling \"____ list python\"!"
      ]
    },
    {
      "cell_type": "markdown",
      "metadata": {
        "id": "6mjPmAE-sEE7"
      },
      "source": [
        "An *extremely* related topic is looping. We'll start with a simple case, the `while` loop. This does something \"while a condition is true\".\n",
        "\n",
        "It's the easiest to explain with an example; in this case, note that `<` is a boolean condition!\n"
      ]
    },
    {
      "cell_type": "code",
      "metadata": {
        "id": "YPUdkuxKsYFa",
        "colab": {
          "base_uri": "https://localhost:8080/"
        },
        "outputId": "de2fed32-37d0-4a53-dba7-68a8be7f91ab"
      },
      "source": [
        "i = 1\n",
        "while i < 1000:\n",
        "  i *= 2\n",
        "print(\"The smallest power of 2 over 1000 is \" + str(i))"
      ],
      "execution_count": null,
      "outputs": [
        {
          "output_type": "stream",
          "text": [
            "The smallest power of 2 over 1000 is 1024\n"
          ],
          "name": "stdout"
        }
      ]
    },
    {
      "cell_type": "markdown",
      "metadata": {
        "id": "HlYVTaeYtKmW"
      },
      "source": [
        "Note the `while` keyword, the colon, and the indentation!"
      ]
    },
    {
      "cell_type": "markdown",
      "metadata": {
        "id": "zh3GNzYXsvPC"
      },
      "source": [
        "Another kind of loop is a `for` loop. *For* every item in a list, it will do something."
      ]
    },
    {
      "cell_type": "code",
      "metadata": {
        "id": "n6sRAH0_s2IM",
        "colab": {
          "base_uri": "https://localhost:8080/"
        },
        "outputId": "20492ee7-ac95-46c5-ba75-109c3f27f341"
      },
      "source": [
        "my_fave_numbers = [3, 21, 256]\n",
        "for num in my_fave_numbers: \n",
        "  print(num)"
      ],
      "execution_count": null,
      "outputs": [
        {
          "output_type": "stream",
          "text": [
            "3\n",
            "21\n",
            "256\n"
          ],
          "name": "stdout"
        }
      ]
    },
    {
      "cell_type": "markdown",
      "metadata": {
        "id": "QXcUdLUptCRr"
      },
      "source": [
        "This is a lot of new stuff at once! Note the:\n",
        "\n",
        "* `for` keyword:\n",
        "* the `in` keyword - this lets us pair the `num` with each element in `my_fave_numbers`\n",
        "* the colon!\n",
        "* the indentation!!\n",
        "\n",
        "\n",
        "One type of `for` loop is very common, when we want to do something for each number in some interval (i.e. from `0` to `9`). There are two ways we can do this:"
      ]
    },
    {
      "cell_type": "code",
      "metadata": {
        "id": "5XG1CDEXspQY"
      },
      "source": [
        "# with a while loop\n",
        "\n",
        "i = 0\n",
        "while i < 10:\n",
        "  print(i)\n",
        "  i += 1\n"
      ],
      "execution_count": null,
      "outputs": []
    },
    {
      "cell_type": "code",
      "metadata": {
        "id": "UwtTZaJWtffd"
      },
      "source": [
        "# with a for loop and the \"range\" function\n",
        "\n",
        "for i in range(10):\n",
        "  print(i)"
      ],
      "execution_count": null,
      "outputs": []
    },
    {
      "cell_type": "markdown",
      "metadata": {
        "id": "oICEXsHLtf2W"
      },
      "source": [
        "In this case, `range` is a function that (essentially) returns a list from `0` to `9` (i.e. does not include `10`). Why not `10`? Mostly out of convention."
      ]
    },
    {
      "cell_type": "markdown",
      "metadata": {
        "id": "BkT0uYB9tqEB"
      },
      "source": [
        "You might feel that this part is a bit rushed, which is totally reasonable! While there's not much \"theory\" behind lists or loops, there's so much that you'll just learn via practice.\n",
        "\n",
        "With that in mind, let's do some of that!"
      ]
    },
    {
      "cell_type": "markdown",
      "metadata": {
        "id": "xWtm_LKgtxO3"
      },
      "source": [
        "### Check your understanding\n",
        "\n",
        "Let's do a few quick exercises to check your understanding on functions! We'll also chuck a few fun bonus problems in this section, if you're really interested."
      ]
    },
    {
      "cell_type": "code",
      "metadata": {
        "id": "fgp62YCwuMiB",
        "colab": {
          "base_uri": "https://localhost:8080/"
        },
        "outputId": "feb1ce3e-e89c-4252-94fd-c7a640da5add"
      },
      "source": [
        "# remove your least favourite emoji from this list, using code\n",
        "\n",
        "some_emojis = [\"🥺\", \"👀\", \"😳\", \"🤬\"]\n",
        "\n",
        "some_emojis.pop(0)\n",
        "\n",
        "# your code here\n",
        "print(some_emojis)"
      ],
      "execution_count": null,
      "outputs": [
        {
          "output_type": "stream",
          "text": [
            "['👀', '😳', '🤬']\n"
          ],
          "name": "stdout"
        }
      ]
    },
    {
      "cell_type": "code",
      "metadata": {
        "id": "isdaCnYeulFy"
      },
      "source": [
        "# write some code that loops through the remaining emojis from above, and prints each one 3 times per line\n",
        "\n",
        "# ex: 🥺🥺🥺\n",
        "#     😳😳😳\n",
        "#     🤬🤬🤬"
      ],
      "execution_count": null,
      "outputs": []
    },
    {
      "cell_type": "code",
      "metadata": {
        "id": "ZnqPoDAkuz5E",
        "colab": {
          "base_uri": "https://localhost:8080/"
        },
        "outputId": "9a3591e0-0d00-42bc-cdb7-963016900f5f"
      },
      "source": [
        "# we come back to FizzBuzz again! this time, run FizzBuzz for each number from 0 ... x\n",
        "# this is the iteration of the problem that often comes up in coding interviews!\n",
        "\n",
        "def fizzBuzz(num):\n",
        "  if num % 3 == 0 and num % 5 == 0:\n",
        "    print(\"FizzBuzz\")\n",
        "  elif num % 3 == 0:\n",
        "    print(\"Fizz\")\n",
        "  elif num % 5 == 0:\n",
        "    print(\"Buzz\")\n",
        "  else:\n",
        "    print(num)\n",
        "\n",
        "def rangeFizzBuzz(n):\n",
        "  for i in range(n):\n",
        "    fizzBuzz(i)\n",
        "\n",
        "\n",
        "rangeFizzBuzz(100) # should do fizzbuzz for 0 ... 100, 100 inclusive"
      ],
      "execution_count": null,
      "outputs": [
        {
          "output_type": "stream",
          "text": [
            "FizzBuzz\n",
            "1\n",
            "2\n",
            "Fizz\n",
            "4\n",
            "Buzz\n",
            "Fizz\n",
            "7\n",
            "8\n",
            "Fizz\n",
            "Buzz\n",
            "11\n",
            "Fizz\n",
            "13\n",
            "14\n",
            "FizzBuzz\n",
            "16\n",
            "17\n",
            "Fizz\n",
            "19\n",
            "Buzz\n",
            "Fizz\n",
            "22\n",
            "23\n",
            "Fizz\n",
            "Buzz\n",
            "26\n",
            "Fizz\n",
            "28\n",
            "29\n",
            "FizzBuzz\n",
            "31\n",
            "32\n",
            "Fizz\n",
            "34\n",
            "Buzz\n",
            "Fizz\n",
            "37\n",
            "38\n",
            "Fizz\n",
            "Buzz\n",
            "41\n",
            "Fizz\n",
            "43\n",
            "44\n",
            "FizzBuzz\n",
            "46\n",
            "47\n",
            "Fizz\n",
            "49\n",
            "Buzz\n",
            "Fizz\n",
            "52\n",
            "53\n",
            "Fizz\n",
            "Buzz\n",
            "56\n",
            "Fizz\n",
            "58\n",
            "59\n",
            "FizzBuzz\n",
            "61\n",
            "62\n",
            "Fizz\n",
            "64\n",
            "Buzz\n",
            "Fizz\n",
            "67\n",
            "68\n",
            "Fizz\n",
            "Buzz\n",
            "71\n",
            "Fizz\n",
            "73\n",
            "74\n",
            "FizzBuzz\n",
            "76\n",
            "77\n",
            "Fizz\n",
            "79\n",
            "Buzz\n",
            "Fizz\n",
            "82\n",
            "83\n",
            "Fizz\n",
            "Buzz\n",
            "86\n",
            "Fizz\n",
            "88\n",
            "89\n",
            "FizzBuzz\n",
            "91\n",
            "92\n",
            "Fizz\n",
            "94\n",
            "Buzz\n",
            "Fizz\n",
            "97\n",
            "98\n",
            "Fizz\n"
          ],
          "name": "stdout"
        }
      ]
    },
    {
      "cell_type": "code",
      "metadata": {
        "id": "oP2yijAzu6sq"
      },
      "source": [
        "# BONUS PROBLEM (feel free to skip)\n",
        "\n",
        "# can you write a function that checks if a number is prime? how would you do it?\n",
        "# (note: there are *many* ways to solve this problem!)\n",
        "\n",
        "isPrime(1)  # False\n",
        "isPrime(2)  # True\n",
        "isPrime(3)  # True\n",
        "isPrime(4)  # False \n",
        "isPrime(21) # False"
      ],
      "execution_count": null,
      "outputs": []
    },
    {
      "cell_type": "code",
      "metadata": {
        "id": "vV9GRK-lvuAi"
      },
      "source": [
        "# BONUS PROBLEM (feel free to skip)\n",
        "\n",
        "# can you write a function that reverses a list?\n",
        "# given, this function exists already, but see if you can do it yourself :)\n"
      ],
      "execution_count": null,
      "outputs": []
    },
    {
      "cell_type": "markdown",
      "metadata": {
        "id": "huq7hdYmt33X"
      },
      "source": [
        "### Summary\n",
        "\n",
        "We covered a lot here!\n",
        "\n",
        "* what lists are and how to make them\n",
        "* how to access elements and update them\n",
        "* how to add and remove elements with `.append()` and `.pop()`\n",
        "* what a `while` loop is\n",
        "* what a `for` loop is; using the `for ... in` pattern, and the `range` keyword"
      ]
    },
    {
      "cell_type": "markdown",
      "metadata": {
        "id": "U0wej0rwaAmA"
      },
      "source": [
        "## What's next...\n",
        "\n",
        "We'll switch over to the other notebook now!\n",
        "\n",
        "Also, if you were interested in learning more about Python at your own pace, ACM Hack has made an entire workshop series called learn.py that works on this and more! Check out the [GitHub repository](https://github.com/uclaacm/learn.py-s21) for more information!"
      ]
    }
  ]
}