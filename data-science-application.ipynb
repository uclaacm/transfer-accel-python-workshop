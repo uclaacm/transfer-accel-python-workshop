{
  "nbformat": 4,
  "nbformat_minor": 0,
  "metadata": {
    "colab": {
      "name": "ACM_AI_Transfer_Accelerator.ipynb",
      "provenance": [],
      "collapsed_sections": [],
      "toc_visible": true
    },
    "kernelspec": {
      "name": "python3",
      "display_name": "Python 3"
    },
    "language_info": {
      "name": "python"
    }
  },
  "cells": [
    {
      "cell_type": "markdown",
      "metadata": {
        "id": "STRNYnQxi6Io"
      },
      "source": [
        "# Python Data Science Application Tutorial\n",
        "\n",
        "This Google Colab notebook contains all of the materials for the second half of the \"Intro to Python and Applications\" workshop ACM ran for the SEAS Transfer Accelerator '21!\n",
        "\n",
        "This notebook will cover a common machine learning / data science application in python using common python libraries inlcluding numpy, pandas, and scikit-learn."
      ]
    },
    {
      "cell_type": "markdown",
      "metadata": {
        "id": "Q7ZVEUtWctJ3"
      },
      "source": [
        "**WANT TO USE THIS NOTEBOOK AND MODIFY ITS CONTENTS?**\n",
        "\n",
        "**PLEASE MAKE A COPY!! FILE > SAVE A COPY IN DRIVE**."
      ]
    },
    {
      "cell_type": "markdown",
      "metadata": {
        "id": "BPVqxoW6jaxY"
      },
      "source": [
        "# Setup\n",
        "\n",
        "Download the following .csv data file: [https://drive.google.com/file/d/1CqdLLzOelGflAfwXjPdYZBlORtiPR347/view?usp=sharing](https://drive.google.com/file/d/1CqdLLzOelGflAfwXjPdYZBlORtiPR347/view?usp=sharing) and upload it to your Google Drive. This contains data from the Wealth Health Organization on Life Expectancy in various countries as well as other relevant statistics for each country.\n",
        "\n",
        "The original dataset can be found here: [https://www.kaggle.com/kumarajarshi/life-expectancy-who](https://www.kaggle.com/kumarajarshi/life-expectancy-who)"
      ]
    },
    {
      "cell_type": "markdown",
      "metadata": {
        "id": "1OopEkeOjdXA"
      },
      "source": [
        "# Python Libraries\n",
        "\n",
        "Python includes many built-in libraries that include useful functions  you can use in your own programs without needing to write them yourself. Additionally, many third-party libraries written by other developers can be used in your own code. Google Colab includes many of these useful third-party libraries, which you can use without any additional setup.\n",
        "\n",
        "To import a library run\n",
        "\n",
        "```\n",
        "import LIBRARY_NAME\n",
        "```\n",
        "\n",
        "where LIBRARY_NAME is the name of the library you are trying to import. Sometimes we only want to import a specific module from a library. This can make our code cleaner and easier to read. To import a specific module from a library run \n",
        "\n",
        "```\n",
        "from LIBRARY_NAME import MODULE\n",
        "```\n",
        "\n",
        "where MODULE is the name of the module you want to import from the library LIBRARY_NAME.\n",
        "\n",
        "Often libraries have really long names that are annoying to type out and read in code. It is preferable to create an alias for modules when importing so that our code is more readable this can be done by running \n",
        "\n",
        "```\n",
        "import LIBRARY_NAME as ALIAS_NAME\n",
        "```\n",
        "where LIBRARY_NAME is the name of the library you are trying to import and ALIAS_NAME is the new name you want to give to the library. Now, in your code when you want to refer to that library you can use the shorter alias name that you assigned it.\n"
      ]
    },
    {
      "cell_type": "code",
      "metadata": {
        "id": "MOxjCujJEvb0"
      },
      "source": [
        "import numpy as np\n",
        "import pandas as pd\n",
        "import matplotlib.pyplot as plt\n",
        "from sklearn.linear_model import LinearRegression\n",
        "from sklearn.model_selection import train_test_split"
      ],
      "execution_count": null,
      "outputs": []
    },
    {
      "cell_type": "markdown",
      "metadata": {
        "id": "jYeRNLhFN_Ff"
      },
      "source": [
        "For all of these libraries there are way too many functions for anyone to be able to memorize. Don't be afraid to frequently refer back to documentation while writing your code (working professionals have to do this all the time). Here are some links to official documentation for libraries used by this tutorial.\n",
        "\n",
        "[numpy](https://numpy.org/)\n",
        "[pandas](https://pandas.pydata.org/)\n",
        "[matplotlib](https://matplotlib.org/)\n",
        "[scikit-learn](https://scikit-learn.org/stable/)"
      ]
    },
    {
      "cell_type": "markdown",
      "metadata": {
        "id": "vH5c8Cf-F50J"
      },
      "source": [
        "# Numpy\n",
        "\n",
        "Numpy is a python library that makes it easier to work with higher dimensional arrays. Calculations involving higher dimensional arrays (such as matrix calculations) are very common in engineering code."
      ]
    },
    {
      "cell_type": "code",
      "metadata": {
        "id": "f6NT-f3-Po7L"
      },
      "source": [
        "normal_list = [[1, 2, 3], \n",
        "               [4, 5, 6], \n",
        "               [7, 8, 9]]"
      ],
      "execution_count": null,
      "outputs": []
    },
    {
      "cell_type": "code",
      "metadata": {
        "id": "CEJ6np_gP5pe"
      },
      "source": [
        "# gets the element at the 1st row and 2nd column (remember that all arrays in python are indexed starting at 0)\n"
      ],
      "execution_count": null,
      "outputs": []
    },
    {
      "cell_type": "code",
      "metadata": {
        "id": "lz45WwAoQcUz"
      },
      "source": [
        "# gets the slice of the numpy array containing the first through second rows and zeroth through first column\n"
      ],
      "execution_count": null,
      "outputs": []
    },
    {
      "cell_type": "code",
      "metadata": {
        "id": "Vp4xzAGPQ95M"
      },
      "source": [
        "# adds five to all elements of the array\n"
      ],
      "execution_count": null,
      "outputs": []
    },
    {
      "cell_type": "code",
      "metadata": {
        "id": "8RJ1V-w5c0lf"
      },
      "source": [
        "# adds two numpy arrays (assuming that they are the same shape)\n"
      ],
      "execution_count": null,
      "outputs": []
    },
    {
      "cell_type": "markdown",
      "metadata": {
        "id": "FyaYPdbtjk7r"
      },
      "source": [
        "# Data Processing with Pandas"
      ]
    },
    {
      "cell_type": "code",
      "metadata": {
        "id": "BPXmRMy8E4cJ"
      },
      "source": [
        "# load data\n",
        "data_filepath = \"/content/drive/MyDrive/who_life_expectancy_data.csv\"\n",
        "data_frame = pd.read_csv() # fill in path here\n",
        "data_frame = data_frame.dropna()"
      ],
      "execution_count": null,
      "outputs": []
    },
    {
      "cell_type": "code",
      "metadata": {
        "id": "pVUrWGgU0DMx"
      },
      "source": [
        "data_frame.describe()"
      ],
      "execution_count": null,
      "outputs": []
    },
    {
      "cell_type": "code",
      "metadata": {
        "id": "WToV2qd4z2cB"
      },
      "source": [
        "data_frame"
      ],
      "execution_count": null,
      "outputs": []
    },
    {
      "cell_type": "code",
      "metadata": {
        "id": "IPCk85ykFM-j"
      },
      "source": [
        "# get relevant columns\n",
        "life_expectancy = data_frame.loc[:, \"Life expectancy\"].to_numpy()\n",
        "features = data_frame.iloc[:, 4:].to_numpy()"
      ],
      "execution_count": null,
      "outputs": []
    },
    {
      "cell_type": "markdown",
      "metadata": {
        "id": "N3VDGk-fGis_"
      },
      "source": [
        "# Visualizing Data with Maplotlib"
      ]
    },
    {
      "cell_type": "code",
      "metadata": {
        "id": "q2Mn5mq_HHYx"
      },
      "source": [
        "def plot_feature_vs_life_expectancy(feature, figsize=(10,10)):\n",
        "  plt.figure(figsize=figsize)\n",
        "  feature_data = data_frame.loc[:, FILL_HERE].to_numpy() # fill here\n",
        "  life_expectancy = data_frame.loc[:, \"Life expectancy\"].to_numpy()\n",
        "  plt.plot(feature_data, life_expectancy, marker='.', linestyle='None')\n",
        "  plt.xlabel(feature)\n",
        "  plt.ylabel(\"Life Expectancy\")\n",
        "  plt.show()"
      ],
      "execution_count": null,
      "outputs": []
    },
    {
      "cell_type": "code",
      "metadata": {
        "id": "OjaMEDmhNLUP"
      },
      "source": [
        "plot_feature_vs_life_expectancy(\"GDP\")"
      ],
      "execution_count": null,
      "outputs": []
    },
    {
      "cell_type": "markdown",
      "metadata": {
        "id": "J-4xmRQh5Yru"
      },
      "source": [
        "# Linear Regression with SciKit Learn\n",
        "\n",
        "SciKit Learn provides various functions for easily training machine learning models. Machine Learning (ML) is a subset of Artificial Intelligence (AI) which uses data to teach computers how to perform a task. Linear regression tries to predict some real-number value by trying to find a linear relationship between the input features and desired output.\n",
        "![876px-Linear_regression.svg.png](data:image/png;base64,iVBORw0KGgoAAAANSUhEUgAAA2wAAAJDCAYAAAB34ZcGAAAABGdBTUEAALGPC/xhBQAAACBjSFJNAAB6JgAAgIQAAPoAAACA6AAAdTAAAOpgAAA6mAAAF3CculE8AAAABmJLR0QA/wD/AP+gvaeTAAAAB3RJTUUH4QgIEhEMocUZjAAAYmJJREFUeNrt3Xe4HHXZh/F7T3ojCRAIvYTeiyAlYEMUIXbsREFFwYIVxAa2V3wVBX1BwQp2UJEiFlBRadKkhhog9BoCpCfnPO8fM2uWw87OnHN292y5P9e1F+Ts7OzsM7O7v+/OzDMgSZIkSZIkSZIkSZIkSZIkSZIkSZIkSZIkSZIkSZIkSZIkSZIkSZIkSZIkSZIkSZIkSZIkSZIkSZIkSZIkSZIkSZIkSZIkSZIkSZIkSZIkSZIkSZIkSZIktYH9gQAushSSJEmdrccSSJIkSZKBTZIkSZJkYJMkSZIkA5skSZIkycAmSZIkSQY2SZIkSWojMRpiY4hJBjZJkiRJao2gNhHiVOAp4J7kv/EHiM2sjaTh4nXYJEmSiDEQV0BEldvjEJt2wqt0D5skSZKkdvR+YI+M+9YEvm5gkyRJkqTh8bqc+w+EGGVgkyRJkqTmm5pz/xhgooFNkiRJUpeKF0GcCfEviN9AHAxRatKT355z/yPAAteRpGaz6YgkSWqFsHZ8RsOP30CMaMLzvxiiL2MZAuJzriNJBjZJktSNYe2VNYJSQBzTpOU4JiO0/b4Tzl+TZGCTJEkaTFA6LyewzWvisuwF8SOIf0CcDfFmiI459WukG5skSZKkAdoi5/4NIcZDaXHjF6V0OXB5pxbapiOSJEmSBmp+zv2LgCWWycAmSZIkqfnOybn/91AKyySpG3kOmyRJGmYxDuKajPPXHoHYwBrVh3vYJEmSJNUKZy+FOB3iAoj/g9gVSkuAlwKnAeXz1FYCvwdeCKX7C857BMREayypk7iHTZIkNSOolSBOrbIHrQ/iUxXTjYbYOGkyUnjem0P8FmLpqq6S8YlO6u4oycB2D3BCxe29lkaSJNUxsL2vRtv+Poj9BznfrSHmZ8z3Z9ZdUqcEtidJ9rKVb1+3NJIkqY6B7Zaca639YZDz/VvOfA+y9pI6IbB5SKQkSWpUWBsB0ZsTrO4dxHynpXvnas33DOu/iseISpIkSeqn1AsszJlowSBmvBZQyplmbetvYJMkSZJU2/lDvL+a+4DlOdPMtfSS2pmHREqSpCaIjSAezzhs8Q6IyYOc75k1DofshdjF2ksysEmSJOWHqy0gLq4472wlxNkQ04cwz9UhbsjoPPkxay7JwCZJkjSwkDUNYmeIqXWa33iIoyH+BTEH4iyIfayzJAObJEmS2oZNRyRJkiTJwCZJkiRJMrBJkiRJkoFNkiRJkmRgkyRJkiQDmyRJkiTJwCZJkiRJMrBJkiRJkoFNkiRJkmRgkyRJkiQDmyRJkiTJwCZJkiRJMrBJkiRJUksbaQmkQZsE7Aysnf77KmBezmN2BjYrMO8/AIstsSRJkiQVNxP4GXAr0AtExe2QAo//v36PybptVGMe+6fTXOTqkCRJ6mzuYZMGZl/g7RX/7gVGDGI+jwE31rh/qaWWJEmSgU0amPuAHwDXpreHgfsHMZ/LgNdbTkmSJBnYpPr5WXorm2ZJJEmS1Ch2iZQkSZKkFuUeNmn4jALWAlYC84EVlkSSJEmV3MMmDY+XAk8BDwCPAAuAPwGvsDSSJEkysEnDazIwAViU/nt8Gtb+BHwHKFkiSZIkeUik1Fx3Ap8BzgPuJrk49gTg5cBXgG2ADwL3AifmzGt74KycaeYAx1t2SZIkA5ukfCdX+dsi4PfAX4FLgR2AzwHfY9UeuGpWkhxWWcuzllySJElSt5oGRHo7pA7zO6hifq/MmGb/9P6LLL8kSVJn8xw2qbVcWvH/MyyHJEmSgU1S61hZ8f8jLIckSZKBTVLr2LXi/++3HJIkSQY2Sa1hJHBc+v/LgX9YEkmSJAeIkgb2ntmw4t+rV/z/NGDTin8/ATxT8e/XkrTv/ylwDc89/HE74BvAS9J/nwLMt9ySJEmSVNxGrOrimHd7X7/Hvq3iviXA7Wlwe7jf4y4ExtRYBrtESpIkdQn3sEkD00f+tc/KlvX7963AH4CZwGRgi3733wR8B/hh+jySJEkysEkagPt57mGQA/Efkuus9QAbANOBScBCYC7wuOWVJEmSgU0aXn3AvPQmSZIkZbJLpCRJkiQZ2CRJkiRJBjZJkiRJ6gCewyZJkiQNq1gdOAp4GTAKuA44CUq3W5sB13J7YBawGjAH+C2UFlkXSc3kddgkSeqcgLEpxL0Q0e+2GOJA61O4jj0Q34bo61fHByH2sD6SDGySJGkwQePyKmGtfFsAMc0aFarjMTXq+EQ719Fz2CRJkqThCRk7AHvWmGAy8GbrlFvHUcDRNSZYAziiXV+d57BJkiRJw2OzOk3TSeFrJnAwsDZwF/ATKN2V86AZwOo50+xuYJMkSZI0EI/XaZpOCGol4P+AI/vdcTTE+6H0oxoPXl7gCZa5uUlqFs9hkySpM0LKKIj7a5x71QuxTZfU4oM16rASYvfaYS/urvH4gPiA25skA5skSRpoUDkAYnlGyPhiF9UhL3D9POfxb6zSIbJ8mwMxzm1NkoFNkiQNJqzMhLg03aMWEHdCHNpFr39iTlgLiBsLzOedEPP7Pe6vEOu5jUkysEmSpKEGl3EQq3Xh6x5VYy9j+XZ5wXlNgHgFxJsgtuuE6th0RJIkSWoJpSXAki583SsgLgJeVWOiCwvOaxHwZ7clScPJPWySJKnDxHYQz2bsXbsdYlK3VsYLZ0uSJEkaZqWbgZcA/6lMccB5wIug9Gy3VsZDIiVJkiS1Qmi7BtgFYjOSC2ffDaWHu70qBjZJkiRJrRTc7gLusg4GNkmSJEnKFLAXMB5YCtxfgnlWRVKectORp4FrKm7ftTSSJElDDmk9AbMCLk27nixO/3vqcCyPe9ik9vUYcHbFv/3FR5IkafBBbRwwG/gEsFnFXePS/74l4OOlrrz0gqSBsK2/JElS/YLamgGfD3gi46rdTwV8OWC61ZJkYJMkSWpOUNs04OSKQx773+YFHBMw2WpJMrBJkiQ1J6jtEnBmwMqMoPafgNnh6WOSDGySJElNCWnlRiIXZ4S0voCLAmZZLUkGNkmSpOYEtTHp3rI5GUFtebq3bVurJcnAJkmS1JygNjngqICHM4Las+n5a+tbLUkGNkmSpOYEtU3SILbIRiKSDGySJEmtEdTyGolcbyMRSQY2SZKk5oW0UsB+ARdkhLQIuNRGIpIMbJIkSc0LaqMLNhLZzmpJMrBJkiQ1J6itljYSechGIpIMbJIkSa0R1DbOaSTySMDxAVOsliQDmyRJUnOC2s45jURuSA+NHGW1JBnYJEmSGh/Syo1Ezs9rJBJQsmKSDGySJEmND2rlRiK3ZIS0Fenetu2tliQDmyRJUnOCWl4jkYXp+WsbWC1JBjZJkqTmBLWNA04IeCYjqD1qIxFJBjZJkqTmBrWdbCQiycAmSZLUWkFtpo1EJBnYJEmSWieklRuJ3FyjkchZAbtZLUkGNkmSpOYEtXIjkQdtJCLJwCZJktQaQW2jtJHI0zmNRKZaLUkGNkmSpOYEtXIjkRUZQe3GgMMDxlotSQY2SZKk5gS1ciORPhuJNM5ISyBJktTWw+aXA68B1gBuB34MpXnWRQ0KaaOBtwBHA9tWmaQPuBD4UgmuqjGnHYBXAZOAOcDvoLTECkvqBO5hkyQBMQLiZ1V2bCyGONj6qM5BbVLaSOSBnEYiG+bMqQfiOxB9/WYxD2IXKy3JwCZJ6pQh9OezL2kVSyG2skaqQ1BbJ20UktVI5LGBNRKJz9TYbh+BsCGJJAObJKnth9EjIZ6oMfCNZC+GNOigtmNOI5GbBt5IJMZALMjZbo+x+pIMbJKkdh9Ob5gz6A2If1onDSKoNbCRSOxQYLv9rWtBUqcEtuXA/IrbuZZGkrpmWL16lXOA+t/+YJ1UMKSNCjg44OqMjak3DXEvHOIzbVUgsP3KNfJcdomU2tdtwJcq/v2YJZGkblGaD/FvYI8aExnYlBfUJgGHAZ8A1q8yyWLgB8A3S1CPzqN3AA9kPFfZX10zktqdh0RKkoDYE2JZxl6K65LzhaSqQW162ihkQU4jkdUb8Oxvr7F37Sa3W0kGNklSJw2994WYUzHg7YX4ZXLIpArWcBuI90N8AGKnDg9qOwScFrAsIzHdmbbuH9vgJTm8SvORiyHWdXuUZGCTJHXiUHwriL0hplmLwjUbl17Hrv+5gOdArNZhQa2BjUQGvVSTIA6EeBvE9m6PkgxskiSpMjCcWePQvPM7IKQVbSSyh9uCJBnYJElqpTizZYEum20ZZAImpYc13p/xwhalh0Vu7nbQHuwSKUmSpIHGghKwC7Ap8CRwGZSWtdEL2Jv8w/9mAle2UVCbDrwf+AgwucokTwCnAN8uJZcDkoFNkiRJHRjWtgB+mQa2soch3gel861P04Pa9sAHgXcC1ToszgW+A5xegiVWTJIaz0MiJUnDFQ/WhHgg4xDCFUnXyrZ4HW1/SGSBRiKXNb+RiCTJwCZJGs6Y8OWckHN5G72WWk1HLmjRkNaThrCrbCQiSQY2SZL6R4YrcgJbH8T4Nnkt4yF+XuU1nAsxpcWC2sScRiKL00YiW7iNSpKBTZLUvYHtmpzAFhCT2+w1bZ9eNPtDELu2WFBbO+D4gKcyiv14ev8abpuSZGCTJBnYTs0Ja7dZo7oEtc0DTg5YmlHou9I9buOsliQZ2CRJKkeJzSEW1Qhs77BGQwpqRRqJHBwwwmpJkoFNkqRqseIVEPOrdIj8jLUZVEgrNxK5MqeRyJ5WS5IMbJIkFYkZUyHeA3ECxCcgNrMmAw5q5UYi8zKC2rKAMwO2tFqSZGCTJEnNCWo2EpEkA5skSWqxoJbXSGSujUQkycAmSZKaG9TyGolcGzDbRiKSZGCTJEnNCWnlRiJX5DQS2ctqSZKBTZIkNSeoTQw4PODOnEYiW1ktSTKwSZKk5gS1tWo1EpnP1N4/8KoLAta0WpJkYJOkgQw1Z0AcD/FjiK9C7GhNpMJBbbO0kciSakFtLpvGUZwU41lU/tNxVk2SDGySVHS4+V6I5f3GmH0QX7Q2Us2gNjPgrPRctOcFtWvZJWZzRoxgZVS5wPimVlCSDGySlDfknAnRW/00mwiIt1kj6TkhrdxI5PKMN03fvWx0zd5cGjXeVwHxIaspSQY2Scobfp6TM6j8jzWSIGBs2nb/jvxGIvGenPdVQHzeqmogRloCSZK60k45928PMQJKvZZKXRrU1gKOBD4MTK0yyZPAD4CTS/Bw+rc1Csx6jtWVpM7mHjZJ9RiO3pyzF+BZa6QuDWo1G4kE3B1wVMD4Ko/ugbimxvvqHoixVlmSDGySlDcs/UZOYPuNNVKXBbWajUQCrk0PjRyRM6cZaTDrP4tHIXax0i259mdD3JCe1/ssxNkQm1sXSUMNbJeQHKJRvk2yNJIGMECZBnF/Rlh7BmJLa6QuCGnlRiKXZTUSCTg/YL8Bznk1iE9CnA/xh+S8tfAabK25FZyQ8Tm4wMucSBpqYOt/+6ulkTTAgcqmEJc8v9mIewHU8UFtTMFGIltbrY7eEnZLL2WSdaTB1dZI0lAC27+BXStuW1gaSYMctGwCsR+Eg1N1elCbFnB8wJMZI/QnA04IWNdqdcUWcWKBrp6bWSdJgw1snsMmSVKxoDYjbSSyOGNUfk92IxF18Jbx8wKBbd/hXkrb+kuSJKlTg9quwFHA24GeKpP8BzgJ+EUJVlqxrnNvgWnusUySBso9bJIkZYe0BjUSUQduLVtCrKixd+0v1kiSgU2SpPoEtXIjkdsyRt/L00Yi21gtVWw5R6bt/PtvMvMgNrI+kgxskiQNLahNCzgm4JGMoPZMev6ajUSUtRXtC3EOxF3p9dhOgFjDukgysEmSNPigtmlOI5F700YiE6yW2plNRyRJkjonxkwBXgdsAjwMnAulhzosqOU1Erke+BY2EpEkDRP3sEmSqkWZV0HM77ejaQnEEYOY1wyI16fznNwCIa3cSOTSGo1ELgqY5XYgSTKwSZJaLaxtm4azanmmD+LAgvOZAvGbfo9fCPHxYQpq5UYit1Z/YaUVj7D2eXPYehe3AUmSgU2S1KqB7Yyci/9eWWAePRCX1JjHUU0MamumjUQerrYgKxmx+Icc9sR6PFD+0yKIb0CMcVuQJBnYJEmtFthuzwlsKyFyehfEa3Lm8TTE+AYHtbxGIvMuY6/TJ7NgecYyngdRcnuQJBnYJEnDFc52T/Z2xQcgtkv/dktO2Fqe7EGrOd+Tc+YRSfvzhgS1XdNrpK3MeOL/pIdGjoS4NWcZX+M2IkkysEmSmh3UpkL8sUpA+SnE93JCTIHvjPhugcC2Xx1DWrmRyMXFG4nE5gWW8QduK5IkA5skqdmB7aIaIeXXEE/WuP9miE1z5n9YThBaUY+LCec1EglYnu5t27bKo3crENh+47YiSTKwSZKaGdb2zQkpfek5aA/UmOae2i36YxzE3BqP//YQg9rk9ELWD2c8wbPp+Wvr15jLlPTwzlq1+ILbiyTJwCZJamZgO7bAnqVDCpzLdmzO82yV0cDkl4PtwBiwSRrEFmU1Ekk7Qha83lv8oMbrWwixgduLJMnAJkmNDynjIGZCvBhidQNbbmD7QIFpipzLNhriLRBfg/g8xB6DDGq75DQSuX5VI5EBzXkixD+qzHIRxKt930iSDGyS1PiA8iGIBf26HH67e6+zFTNzglgvxJ4FAtslDV1KKOU0EomAS5/bSGRQzzQC4h0Qv4C4AOKrEBv7vpEkGdgkqfHh5KM1Asevurguf6xRl9OT64/F/TmB7WsNCmqj071lc3IaiWzn9i1JMrBJUvuGktUgns0JHXt1aW2mQJxbpdnIjyDGptO8r0bdnoJYv85BrdxI5KHBNxKRJMnAJkntEkoOKHBYX5d3AYyd0/PV3gexZZX7vwSxsl/NHoHYp45BLa+RyCMBxwdMcZuWJBnYJKlzwsgbCgS2r1un3DpuAfEJiP+BeGfSqKMuQW3nnEYiN6SHRo5yHUiSDGyS1HlBY0aBwPZW69TENZI0Etkv4Py8RiIBJSsmSTKwGdgkdXZEOLtGWLuzeztFNj2olRuJ3JLTSGR7qyVJkoFNUvdEhSlJ+/nnZYS7IbaxPg0PaqvlNBJZmJ6/5gWqpSYYaQkkSVJrKS2AeCnJtbpeCowGrgF+AaUl1qdhQW1j4P3AkcCkKpM8BnwXOKkEC6yYJEnVuYdNklTPoLaTjUQkSTKwSZJaK6jNtJGIJEmNC2z/BnatuG1haSRJOSEtr5HIioCzAnazWpIkDS2w9b/91dJIkjKCWrmRyIM2EpEkqTmB7RJgasVtkqWRpJaJSLMhLoN4AuK29ALWk4chqG0UcELA0xlB7dGA4yP5HpEkSXUMbJ7DJkmtGda+m3Fa2ByINZoU1PIaidwYcHjAWNeXJEkGNknqlrD26hoX/Q6IHzc4qJUbifTZSESSJAObJOm5kensnMC2GGJMnUNauZHIzTmNRHZ3/UiSZGCTpG4ObFfmBLaAWK9OQW3SfKYes4RxT+Q0EtnQ9SJJkoFNkkT8JiesLRnqHraAdQKOX8boJdWeoI+ex2wkIkmSgU2SKmPE6hD7Q+w3HN0QW6gOr8sJbD8dQlDbMW0ksqLajG9iuzic02I8i66CGOk2KUmSgU2SQW0kxNcglvXbi3Q8RE+X1uTHGWHtToi1BjCfSRAbPsWUF9dqJHIpe8cszovSc+9+q9umJEkGNkkGtlNq7E363y6tSQnicIj/QCyCmAfxzWQvZKHHbzuGpRcfzFl917Br1cL20hPnc1C8kCuzav99t01Jkgxskro7rG0F0VsjsK2A2Mg6FTeTf73w43xjyQOsl1XURXewxVkbcW9eY5Mz6rieZ0NcC7EU4mGIH9SrcYokSQY2SWpcYPtggY6I77JOBSoJ0wOOX8SEquenPca0OJ7jYjtuen96qOSSnLp/oE5LdmLG/B+G2NQ1J0mSgU1S68aMTxYIbEdYp5pBbYdajUTuZLM4ipNiLP9tCPm79JFfq1Hz+yAm1mHp9s1Zt39xDUqSZGCT1Lpx46UFAtsLrVPVoDZzEI1EAuIf6RxGZTQ3mQuxfZ2W8rScdds3sCYqkiQZ2CSpmbGjlHOh6L8OwzK9IGl2Ej+BOA5ikxYKaaMCDg64OqNgvRdywIoajUQiCVHPe72fg/hq0hlyaNd46zfv8wsE8p18H0iSZGCT1LqhbX2I66sM5P8NsXadn+v1EFek5289AfEziBkV93893etTuRzLIN45zEFtUsBRAfdnNRIJOC1gc4iTaoSjlRC7NHHJTykQ2C5NtgFJkmRgk9SqoW0kxJsgTob4VhqsRtT5OT6dERiegtgR4j053Sp3G4agNj3g+IAFGQv2eHp/Rbv/GAfxt4ywdmSTX8HuVQJwtdutyXJLkiQDm6RuDITb5Vw+4DqI23NCxS+aGNR2SPeYLc1YmDvTPW7jagTgQyHOTfdgfR9i12Gq/ecLBLZIOoYWml8pPXTzTxC3JI1L4p3de5F1SZKBTZLaP7B9pWBoqHWb04SgVrORSMBlAbMCSm1W//cUqO85BcPamRmP/23998pKkmRgk6RmBIYfFwgMK3Luv7pBIa0nDWFXZTUSSUPcHm1c/y0L1P+COgS/j7itS8/n7mdJktTq7iswzeU59/+xzkFtYsBRwDzgPKD/OXJLgNOBrUswqwRXtnH95wJP5kxzVYH5vDvn/ve6qUuSWskoYH1gczLPY6jKPWySukxskbMH7fLk2mOxMOP+uyGm1imorZ02Cnkqp5HIGi1Uv6kQB0G8AWLTQc6j1kXSn4CYVmAej+XsYVvqti5JGqo1gFcAnwZ+B9xO8svjBQOYx2TgO8BTafAKYDnwe2ALA5skVR3sfyCjY+EjSaCD5CLdcXO/+y+C2KAOQW3zgJNrNBK5q3YjkWGpWQniWIjF/S52/WuI1QYxr5OqrIMHIQoe7hk35QS2eW7nkqShGF0RsPrfrh9A4Lu94nFzgZuBFem/F5J/noOBTVK3hraXQlwI8RDEnRD/B7FOlem2SafdsA5BrUgjkYMDWrBhRhxdIxxdlISwAc9z+zQEfhViNsSEATw2r+Pk13Mev0162Yg/ptfge6PdJSVJ1QLbIuAy4Nskx+wPJLCdk07/FPDyir9vks4jgIeACQY2SRqmmLOqkciVOY1E9mzhV7FajUNEy7cDmrxM4yGuyViWWyAm13jsoRmHxZ4PMdqtVpIESZOe7YGRFX87YwCBbTdW7Vl7V5X7NwWWpvcfbWCTpKYHtYnpYY3zMhLOsoAzA7Zsg1fz8gKdHb8+DMs1Kd1L9mTFhc9PqX2OYeyYcw7jV916JUlZBhLYvplO+whJw5Fqfl1gfgY2SapvUGvDRiK5r+rAAoHt5GFexskFp/tuzutYADHKLVmSNNTAdmM67S9rTPNuVu2Fm2Zgk6SGBrW8RiJzW6+RSOFXNx1iZU7QeXsLLGcPxDsh/gRxHcS5EK/rN80/CoTPjd2iJUlDCWwjWXW443E1ptu7IrDtY2CTpIYEtTZuJDKgV/q9GgHnNogxw7x8IyHOyVi+UyumOzcnrPXV67INdX59oyEOSfcQnpoEZPcESlKrBrZ1K4LYh2tMt3XFdG83sElS3UJauZHIFTmNRPbqoFc9DuKsjAYfm7XA8h2dE8Temk737pzpLmnB2m+QcRmDGyDW8x2pgRhpCaSmmFjx/0/UmO7JjMdUszZwcM40jwOXWH5JXRzUJgJvAz4JVAspy0nOH/5KKbnsSgcpLQHeBLEXSWfiMcB1wLlQWtECC/jenPsPJzmN4EySZl0zq0yzGPhIi211PcBvgO2q3LkDcBbETCiF71BJaryie9i2ZdWes9fnBLu8PXHlPWzLgfk5t/NdRZK6NKitldNI5In0/jWt1nCFmujN2XN2f8X0E9NDC5dU3H8ZxC4t+NpeWuCcu5luA5LUWoFtk4og9u4a021YMd1hOYHNQyIl6flBbbO0kciSnEYi4zu4CttA/ATi1vTwx1MhNmrB5Xw0J9RcW+UxEyC2hVi7hev/sQKB7YO+W1WUh0RKzbGg4v9XrzHd6hmPkSTVDmozSY5MeAPJdTP7uw44Gfh5CXo7uBKvBH7HcztbbgO8FWJ/KF3dQgv7G+DIGvef/fw/lRYBt7T4Slhcp2kkSXUwkLb+j6XTfqPGNK9g1R627TOmcQ+bJFGokUhf2khk7y6pyGSIJ2rs1bmztboUxpoQd2Us61VJ05S2XA8zci6psKI193hKkoHtz+m0l9SY5nPpNAtJTg43sEnS84PahIDDA+7MGBEvCzgzYKsuq8zsAofivazFlnkaxI8gFqbLNx/ipOSctbZeFyfWWAcn+C6WpNYMbB9Mp11B0ua/mhvSaX5XYz4GNkndGtTKjUTm12gkckLAOl1aoc8XCGzvbdFlH5FcSy1KHbIueiCOg1hcUfuFEJ9Nu0hKklowsE0Fnkqn/xnQ/0vpMFYdDvkyA5sk/Teo5TUSubvzG4kUqtThBQLbQW5RTV0nEyH2hdgnaZgiSWq0jwFnVdzuTcPTU/3+fnLG499fEcrOAV4J7AucQLLnLdLHY2CTZFBjZsBZ6UWtq6WPawNmB4ywWgAxvd8enf63RyHGWydJUic7qyJw1brVuvjqZ4GVGY87h/xfiA1skjo5pJUbiVye00hkP6tVtYLvheirUrrlEK+2PlL7sa2/NDCnAxcXmO7pGvd9OQ1mh5C0Wh4FzCM5b+0vllhSlwa1McCbSX7U2rzKJMuBXwNfLcGtVixL6fvpBaePA3YD+oB/Ap+D0hXWR5KkxnMPm6ROCmrTchqJPJk2ElnXag24uiM6p4mHJEkGNklqZlCbYSMRSZJkYJOk1gpqu6bXSMtqJHJd2kjE0zYkSZKBTZKaENLKjUQus5GIJA2Mv15JkqRGBbVyI5FPA1tWmaTcSOSEEsyxYoOu9LrAu9IazwfOgdI/rYskScPDPWySWiEkbAXxOYjvQXwSYoOKoFZuJPJkxh61Z9Lz12wkMvT18GqIhVXK/JOk6YgkSTKwSeq2kPApiJX9AsKSWZz3iTSILc4IavemjUQmWMO6rIfNcy6U/WlrJEmSgU1Sd4WEN/YPBrtyTZzJIdFLT9hIpKnr4qQaYS0gnnAvmyRJBjZ1zuBvHYi1rINytpNrIKKH3pjFeXEpe0eNRiIXBcyyZpm13Dc9nPRjELsM4vF/zwlsAbGxdZYkycCm9h40vhPi7ooB3q0Qr7MuqrKt9Ixh6YrZnBG3sWXVdLCCkX1p2/5trFdmHdfMCFu/hhjAdefiggKBbZr1liTJwKb2HTgekzHI64N4t/XRf7cUWDPgmEdZq6/aBvMsE+NkPhwbc8/tVqtmJUsQl9QIWGcOYF4fzAlrV1tvSZIMbGrfgeMGEMtqDPaehphqnbo+qG1aq5HIPDaMozgpJrCw/KeTrFrNir4sJ2T1Jc1ECs1rHMT1GfNZDrGP9ZYkycCm9h04vr/A4VRvtE5dG9R2TQ9t7K22YfyHnWI2Z8RIVlT++ZHkXEjVqOxnCrzvDhnA/NaE+G0a9MqPvzMJhpIkycCmTh84nm6duiqk9QTMCri4ViORX/HmT0Lc1u/uq5JrsymnyscWeN+9fRDzXQfixRDbJ4ddSpIkA5vafeD4xgIDx+UQ21qrjg9qY9K2+7dmbAjL071tFdtC9EDsCnEQxHZWsXC19855z62E2Mg6SZJkYJMDx7EQ8wqEttOsVccGtcnphawfzlj5z6bnr61vtepa+fNrvN/+z/pIkmRgk8oDx1cWCGxXWqeOC2qbpEFsUcZKnxdwTMBkq9WQNTAJ4ux+Ze+FOAVitPWRJMnAJlUOHHtzAtvF1qljgtou6aGNKzNW9vXpoZEjrVZT1si2EIdCzIbYxHpIkmRgk6oNGv+ZE9g+bo3aOqTlNRKJgEsDZlktSZIkA5tab0i/G8TSjLH8zRDjrVFbBrXR6d6yOTmNRGwYIkmS1IDAdidwTMXtLZZGQxje7wMxp9/Fe8+BWMvatF1QKzcSechGIk2v/hiIjZMLWkuSpG4PbE8D11TcvmtpVIcB5zbptZy8+HH7BbW8RiKPBBwfMMVq1b36q0P8CGJxWu5lEGdBrGdtJEnq3sDmIZGSCNg5p5HIDemhkaO6uEqjId4McSLEl5MfJeo270kQN2UcUjwPYm23UkmSDGySuiuklQL2C7ggr5FIQKkDK7A1xE/TQHQfxC8gts+YdgbErVVKdD7EhDosyxe8jqEkSTKwSapsJHJL9zYSiZdALKry8pdAHNBv2tEZYa18+0kdlufGnMD2qFuuJEkGNkmdHdRWK9hIZIMOr8Q4iAdrhKPHkkMU/zv9W3LCVC/EEGsWD+Q8x0qIkluxJEkGNkmdF9Q2Djgh4JmMNPBodzUSiVfnhKNIzlX77/TfKDD9a4e4TH/Nmf8tbsmShmKkJZAkqeWC2s7AR4G3ASOqTHIjcCLwyxKs6KLSbFRgmo0r/n9ZgemXDXGZTgVeWuN+O/hKktRl3MOmdogcMyA+BvFViMMgpliT3JBWbiRyfnc2EilUpdcX2GP29orpX5Iz7SKIyXVYrq9nzP+nED1u3ZIkGdikVhpUHwuxot/A9QmIl1ubqkEtr5HIioCzAnazWjER4vEaAewpiKn9HnNBjemPqeOy7Qfxc4jL0muwvdZz1yRJMrBJrTagfkeNwfFCiM2s0X+DWrmRyIMZBVtYvJFIbAfxOYiTII5MLuTcsZV7NcTyKiVbAfGmKtNPgDgDoq/fnrVjDFSSJMnApm6LIbfnHIJ2ikHtv41Ens5pJDK14By/lnY7rJzNfIhXdHAVd4e4EOLZ9IeAP0PslfOYDSBek7T+r8dhkJIkSQY2tdcgekqB84uu7uKgtlN6jbSVGcW5MeDwgDEDmOsROXs0Z7hdSpIkGdgk0kPP+nIC2+VNWpYZEN+E+DvE+RAfTK7h9bzp1od4XXq+0doNCmoz00YiffVtJBIliPty6n2y26UkSZKBTSqHiCtyAsSXm7AMB6bnKPV/7hsgpqXTjIH4bnpR4/L9yyFOhBjyJW8qGonc3LhGIjG9wB7Ny9wmJUmSDGxSOUS8uEqHyPLtQYg1G/z866TnNWUFmN+n051RY5pvDyGoFW0ksmEdXuvUAoHtr26TkiRJBjapMki8FuKRfsHhGogtm/Dcx+QEmL7k8gI1p1kJsckAg9o6aaOQOjUSKfzMV+e8lk+7PUqSJBnYpP5BYlwajN4GsVvz2qfHjwvsdTqlwDSHFgxqO6aNRFZkzOimtJHI2Aa93pfU2KM5F2I1t0VJkiQDm9QqQfHEAmHspALTvC8nqDWokcigXvOs9HDTykX4J8RGHb6uR0F8JN17+2i6t/GoepyDKEmSZGBTJw6gx0HsCTEz6Rg5LMswMyeI3Z3ulcoLbDtVCWmjAg4OuCbjQb1piNt9GF73aIh9IF4PsW0XbGujIP6Yse7+mNwvSZJkYJNI28t/AuLpikHzIogvQIwYhuX5QcZAfgXE/uny/rNGWDu/X1CblDYSeSDjAYvq10hEBdfxJ3MC98etkSRJMrBJyeD5uEZ0XBzC8vRAfAri8X5NT/atmGbt5Jpwz1vev0Gsnga16TmNRB5L71/dbaDp6/imnMB2ozWSJEkGNilpo7+sxsC5F2KrYVq2ERAbZF9KIHrSa7Z9GeKLEPtBlAJ2yGkkcme6x22s63/YtruncwLb09ZIkiQZ2CTi7QXOB/twW7ySlmokopy1NSdnm5tjjSR1ih5LIEkagvEFppnQqgtf0UjkauBfwEE8N5D1ARcAe5RgZgnOLyU/mGh4/SLn/p9bIkmSNFzcw6ZWijy7F9jDdkALBrVyI5H7azQSOS1gc9dxS253YyEuzdje/pXcL0mSZGCTgLikRli7fng6RWYGtXIjkQU2EumI0HY8xF3peZR3pg1wDGuSJMnAJlUMnNeB+E+V/HM7xIwWCWo7pHvMluY0Ehnn+pQkSZKBTZ0W2kalDUhOh/ghxGGtsKejQCORy2wkIkmSJAOb1LyQ1pOGsKsyQlpvGuL2sFqSJEkysEnNCWoTCzYS2cJqSZLaxUhLILWtrYHTKv59O/BNy6IuDGprA0cAHwEmV5nkCeAU4DsleNKKSZIMbJKa9f6dWvHviZZEXRbUtgc+CLwTGFNlkrnAd4DTS7DEikmSJKkZPCRS3R7UijQSOThghNWSJEmSgU1qfEgrNxK5MqeRyJ5WS5IkSQY2qTlBrdxI5L6MoLYs4MyALa2WJEmSDGyNHZ5PhfgfiJshHoS4CGKWq7wrg9raAccHPJUR1B5P71/DakmSJMnA1vgh+nSIO6qPzeN4V3vXBLXNA04OWJoR1Oame9zGWS1JkiQZ2Jo3VD87I6wFRB/EXq76jg5qw9xIJMZD7ACxqWtDkiRJBrbnDpanQKyoEdgC4jRXfceFtHIjkStyGok0MKzHGIgTIRZXPPUciP1dQ5IkSTKwJYPmbXPCWkD82VXfMUFtYsDhAXcNbyORKEGcm7G9rYR4pWtLkiRJBjZiDYjenMD2Q1d92we1tXIaiTyR3r9mk5bowJxtbm4S6iRJkqSuDmwAcWHO4Pllrvr/1mp9iO2S867aIqhtljYSWZLTSKTJrye+W2DP7rZub5IkSWrRwBZvSoPUTRB/gXgXRE+DnmsTiIczBs2nDkPM2DK5pEDsATGyRaLPPhDXV9RlMcTJEC3ZMbFAI5FrA2Y3rpFI7hL+okBg29uPnCHVeH+In6SX6PgBxIusiSRJMrANfZBVSgdX1Qaw50A0qlPfesmhj/FY2oTkeojDmntYWqwP8bd+r3kexAHDPPDdF2JZ9vl9jQrSAw5peY1E+tIQ1wJBKD6TE9ZWQKzuR86gP0NOyajr16yPJEkysA1tsPXOnIHsxzt0kLkaxJ01Bu/7DuOy3ZizTg4e5qA2IW0kcmdOI5GtWmh9rwPxTI2a/siPm0HX9rBW3l4lSZLaPbD9K2ewdVuHDjKPzXnd/x6m5dqowKF7Zw5TUCs3Eplfo5HICQHrtOg6fyXEs1UW/Z8Qk/y4GXRdr8vZXv9hjSRJkoFt8IOth3IGWys7s3ve8w6FrHYB78nDsFw7FAhs5zU5qOU1Erl7eBqJDOrVrA/xpaSG8VOItzXusN+uCWyLc7bXx6yRJBUz0hJIquIxau8ReRRK0YGve2zO/aV0mqeTLo28KP0c/TeUrmzgct0NLM1ZvluaFNRmAh8G3gBUO2/uOuBk4Ocl6G2P1V56APhcE8PMSGBzYHmybjvyvfQUMC7nfkmSpI7UjD1sec0YTurM0sZ3cl73fRBjIc5I97ZV3veX5HpyDVu2U2os1+Kky2bDQlq5kcjlrd9IpKW3rxLE0RBPVpTv7s48nyv3kgn/6/YgSZIMbIMfbI2HuCr7/LWY2qED6s0gFtUYZH4A4vQa9/+tcYeKxniIi6s85xKINzQoqI1J2+7fkdNIZGvfloUqenKNbefQAo8fCfH+9BzTuRCXpM09elrwta4NcX/Ga72rcz9DJEmSmnYdtpgI8a2KvQFPQ5zW2L1IA17G4yAeSdvdPwvxB4i1hjjPAyEWVDl37cT0WnG9w3eB7+iBeCvEzyAugDihEXvWCjQSeTJtJLKub8fCVd2+yl7Zytv85D2X+fhR6Tqv9tizWjS0rQ/x+/Sc14BYDvFriOluD5IkycBW34HXlBYcDF6aMXhdNPQQE9Mgjkou2B3HQ+yY/v2tBZp/HNeigWFE+pquT8PBbelrG18R1GZ0TiORlqv/sQW2nRrX+otP5jz2iBZ+7ZMhtrDrpiRJMrB1z+D36JzB6+0Net63FBh0f75Fw9o5Gct71e1sMTM9tLE340Vdlx4aaaOqwa+DEwpsO2+t8fg5OY+9yhpLkiQZ2Fpl8HtfgcFvAw7Xiw0rDu/Kur24Bet1eP/l7KE3ZnFeXMZekdNIZD/fcnVZB7MLbLPb13j8kpzHPm6NJUmSDGytMvhdXGDwO7NBz31qjef8S4vW678XQh/D0pjNGXEbW4aNRJq6DiZAPFC7YU3Nx9+Ts73faI0lSZIMbK0y+H2sQGDbqEHPPRri+1UaSJzfup3v4p5pPBbHc1w8yepZBXsmPX/NRiKNWw+7J3vCnlf+ORDr5Tz2f3K2989YX0mSJANbqwx8T80ZvD7chGXYAuK9EEdC7FLwMZtB/BhiHsRDaQe9PRq6lDDjDGY/uJhxVQt1DxvHJ/nfpwMm+NZqyrY7DeJzacD/bbr9jCvwuEkQ/8nY3q8oNg9JkiQZ2Joz6B2fhLKqg9fexh0OOaRl3r3K5QICYgXE2xoQ1Hat1UjkOnaO2ZwRI1kREF/zbdUW2/2k9PISj6Sr8UGIr1Z2+pQkSZKBrZUGr3+uaALSl15MeNcWXNaREHfU2CO4sB7XpgroCZgVcGm1J+mjFBexX8zivMo/X52cX6U22/5HWANJkiQDWzsMXHsgVk9CUcsu4z4Fzrk7cghBbUzadv+2jJkv76Xnp6/h919Nr8O2oNp12CRJkiQZ2LoxVL69QGAb8GGJAWsGHBPwSE4jkfVcB5IktScvgiq1r136hbbrgU9alpb0QJ2mKQe1TYGjgPcC1ZpN3Ad8E/hBCRZZfkmSDGySmu8Z4NqKf8+1JC3rcuAeYJOM+5cAvysQ1HZNg9rbgZ4qk1wPfAv4RQlWWnZJkiSp+Twksi3FPhCLMrpavqdGSCs3Erk447DHvoCLAmZZY0mSJMnApsGHtm0hzoaYn3aGvBjiJRlBrdxI5NasRiJp2/5traskSZI09MH6FhCHJntTYiiDbANbJ28lqxqJPJwR1J5tnUYisW66TX8M4pWt3alTkiRJqj6oHQPxo/Q6YZVj719DTDSwKQ1qm6RBbHFGUJuXBrnJLbLEx0As7beYc4b4Y4QkSZLU9IHtj2q0cj/HwNb1QW2X9NDGlRkbyfXpoZEttPcq3lNjm34AYoprVpIkSe0wHN+8yp61/rfd2yuwRQlim+Tcq1jfdTyokJbXSCQCLm3NRiLRA/Fgzjb9KdeyJEmS2mFofmiBCyZ/vH0CW+ydHvZWufwXQKzjui4U1Eane8vm5DQS2a6FX8WMAtv0Ba5tSZLqwxPEpcbqqdM0rTBQ3zUNif0v1Hwg8HeI3aD0rKu8alCbDLwL+BQwvcokC4EfAV8vDeAC2sP3cuoyjSRJkjTsY9utC+yN2HuAMx2mPWzxt5zXcazr+3mppdxIZFFG0e5LG4lMaaNX1QNxf862cLRrX5IkSe0ywP1ljYHtnwYxw2EIbDEuvcBzrUH6P13X/w1qOxdsJDKqTV9hrUN974OY7FYgSZKkdhncTkgvltx/YPtHiKltEthWL7Cn8NouD2mlgP0CLshrJBJQ6oBX/AmIJf1e4k3JXmVJkiSp/Qa4u0AcBfFRiD2GMKPhCGwliHk5ge2HXRrUOqCRyKBf/XSIQyA+AvFyiBG+zyVJktTthusctg/VCGvLIXbosqC2WsBRAQ9lFOXZ9Py1DdxkJUmSJANboyNKCeKUKtlkCcTbuiiobRxwQsAzGUHtkYDj26uRiCRJkqQ2D2z/jSx7QnwD4qcQn4PYqEuCWl4jkRvau5GIJEmSpA4IbN2jopHI+d3RSESSJEmSga31g1q5kcgtGSFtRcBZAbtZLUmSJEkGtuYEtXIjkQczgtpCG4lIkiRJMrA1N6jlNRJ5NG0kMtVqSZIkSTKwNSeo7ZTTSOTGgMMDxjRxqbZJG7rcDTEX4gyILV1bkiRJkoGtW4LazNZsJBL7QSyqskgLIV7impMkSZIMbO0UvXaEOBfimfR6cJdAvDwjpJUbidzcmo1EYgLEIzUuTv4gxDjXuSRJkmRga4ew9hKIxVWCTR/EeyuCWtFGIhsO8+t5Y42wVr69xs1fkiRJMrC1elgbDTGvRrBZ8kU+t3PaKOTp9mgkEp8oENg+4uYvSZIkGdhaPbC9NCvU7Mj1cSaHRC89vRmp56a0kcjYFntNbysQ2A5285ckSZIMbK0e2N7RP8zM5F9xPgdFH6UWayRS+DVNgXiqRlh7EmI1N39JkiTJwNbqgW0fiBjNspjNGXET22WlnN60G+TubfK63gSxospLWQHxBjd9SZIkycDW8v7FzKnH8j+PPcB6VYPaIsb3LWDy6cPfSGTQYfTitOvlYoi/QOzlZi9JkiQZ2Fo7ysD0Wo1EHmNafIHP9+7I9Ye5mUiSJEkazsC2GJhbcftZBwe1HQPOTK+V9rygdg8bLz+arz01kWd/B/ECNxFJkiRJwx3Y5gCHV9wO6sCgNjM9B62vPRuJSJIkSerWwJZzSGTMgPgkxNcgjoCY1iYhbVTAwQFX5zQSeaGbgiRJktScYfqaEJ+H+BPEhRDHQky1LoMNbHF0lW6DT0O8poWD2qSAowLuzwhqiwJODtjITUCSJElq3lB9J4hHqozR74fY2voMNLDFm2pcy2spxPYtFtTKjUQWZCz0Y+n9q7vqJUmSpOYO10dDzK0RMG6GGGGdBhTYrq9Rz4A4o0WC2g4BpwUszVjQO9M9bmNd5ZIkSdLwDNtfkxMuAuJl1qloYIsxEH059bxlmINaXiORy2wkIkmSlBhpCTTMtio4zV8tVSG96a3We3v5MIS0UcBrgU8Cu1WZpA+4EPhKCa5swR8Wtgb2BXqAy6B0o5uaJEmSukC8t8Aetrdap+fIOyTy4px6fqOJQa1II5HTArZo0e1zLMSZVfZa/hZikpuiuvizeyOIH0Dcm56DfCHEi62LJKmRXz491mBY6r4+xLIa4WJR0kFSAwhsL6xR00cgpjchqOU1Enk8vX+NFt8+f1Jj2zzXTVFd+rm9A8STVd4TvRCHWx9JUr2/eN4McV36C/oSiPOyu+jFWIhDIU6HODV9rA0xhr4OPlVjUPxB6zPQwAYQ+0Pc16+W10Fs0+Cgtn1OI5G70j1u49pgu9yiwPmAXgtO3fZ5XcppbLQMYmPrJEmq1xfPZ2vs1dmr37SbQtxeZdqrIdaylkNeF4f1Cxh3eyjkUAIbpB04XwRxMMSuyUCrYUGtSCORgwNGtNk2mXe47ifcHNVln9U7FXhffMo6SZLq8aWzTXr4RtYXzm2rDpOMkRA31pj2IutZl3VSgtggOUxSQw9sDV5b0JN2c/x3xhujNw1xe7bp9vhuA5v0vPfFqwu8L061TpKkenzpHFfgS2fXdNpZBabdxZqqGwJbwMT0sMb7Mt4MSwPODNiyzT8jtipwSOSebo7qsu/OXQp8Hx5rnSRJ9fjS+W6BL52D0mk/W2Daw6ypOjmwBaydNgp5qr0biQzoVf+sxnv+D26K6sLvzhLEzTXeF8shNrNOkqR6fOkcXSCEpQ0a4mMFpn2LNVUnBraAzQNO7oxGIgN+9eMhflnlZZ8PMcVNUV36/fkCiKervC/6ID5sfSRJ9frCWT/tCpkVwK6omHa7nEOjlkKsbU3VSYGtMxuJDLoaO0J8COKoZLAqdf136OYQP4d4DGIhxN8hXmldJEn1/sI5BGJFlbHoQ0lL7+dM+70age1z1lKdENgqGolcmdNIZC9XgyRJkpoR2naD+HXasv9GiG9Ub9MfIyH+J92bVh6/PpN0iWtcu3SpGYEtbSRyeHp4Y7WgtqwzGolIkiSp0wPeahD7QuwNMc56qJ0DW8BaOY1EnkjvX9OyS5IkSVITAltFI5ElGUFtbtpIZLzlliRJkqQmBLYCjUSuDZjdHY1EJEmSWt9ISyA1NWi9p8B0JwDX1etJA3qAA4FPA3tUmaQPuBD4agkudzVJkiRJ6kZHJPkp93ZggeCXu4ctYELaSOTOnEYiW7lqJEmSWpN72KTmexT4fI37bxrKzAPWAo4EPgxMrTLJk8APgJNL8LCrQ5IkSZJW7WG7fYjzqbqHLWCznEYid9tIRJIkqb24h01qcwEzSfamvYHkfLX+rgNOBn5egl4rJkmSZGCT1GDrwrQHkyYhe1bPcfwBOKEEl1ktSZIkA5ukYkYBBwFbkrTPfwi4Apib98CAMcfBficCn4Qdq0yyHPg1ScfHWy21JEmSJBWT1yXyImDzjKC2VsDxAfPvgnji+eenPRlwQsC6llmSJEmSBh/Y7gDOB74P/AKYVxHaFgA7VAS1GTYSaZZYHeJLENdC3Abxa4g9rYskSZKaOShdB+IdEO+D2AuiZE2aZltguyp/7yG5oPayNLTd8izsG3BWQG+1oHYNxGyIkfnXdLvEshd6X6wPcXeVUq+EeK/1kSRJUjMGpZ+BWNpvQHoFxIbWZvj1wEeB6El38VQJan0B538bjknD2LXAfjm3XXO2iRkQJ0CcC/ETiNd1Z4iPP1cveQTEcojN3UIlSZLUyAHph2sMSOdAjLVGw7RmYEzA7Gfhznenx+L1W0HLAs4M2Dp9SNXrsA3imQ+uEuAD4gKIMV20Bjao8d4o377olipJkqRGDUhHQ8zPGZB62Ffzg9q0tJHIkxkr5Zn0/LX+jUTqENhii4ywVr59vYvWxIsKBLafu8VKkiSpUQPSXQoMSM+0Tk0LauVGIourrYi7Ib4D/wiYkDGLegS2b+ZsD892z17X2LLA++MbbrmSJGk49FiCrlByW2iJoLZrwJkkXSI/DIyrvH8h3P5OYAvgQ/DLEixq4OJsm3P/RGDjLnl73A78p/aq4yy3YEmSJDUqKoyFeDpnD8KR1qkhIa0nYNZ8uOKZGo1E5sDrgOvTcLCE2tdTq8cetrML7FVap4vW1C4Qz7h3TZIkScM1ID2mxsB8LoTX8apvUBsTMDvgtqhyslgfrHgYzv8EvAP4FPAgq1rxfyZn9vUIbO/MCWtXD2P1NoF4GcRWTX7erSF+X7G65kAc5tYsSZKkZgxGSxBfS68rVTkwv7G9WpbHOIg1WjioTQs4JuCRailoAcTJEOtVv2baCuA48g9hrUdgGwnxj4ywtnR4Lhgdm1ZZpusgdh6G94pdUyVJkjQskWJTiCMgPgHxSogRdZz36yH+mO6xuzJ9jjoNfGN7iL9UBM6HII6u7/IPKahtWquRSB/M+yN8fw04CfgrcDPwKDAX+BvwZWBGwaerV1v/iRCnQyyrWNTrIfYehgquDfFARoB8OulqKUmSJGmwA+5vZQy2r0yCwZDmvUvatbDa/H86zEFt1/Qaab0Zxxb+Jz00cmQdn7ZOge2/r2ISxE4QGw1jJfO6Vp5d47EjIab6HpQkSZKqD5gPyhlsnzzE+V+VM/9XNjmk9QTMCrg4shuJXBQwq0GLUOfA1hLb0C35lxl43mPWg/gFxOJ0mschTvBwRkmSJOm5A+ff5Qy2Fwz+0MXYqEA3w9ObFNTKjURuzViQ5enetm0bvCidGNjuzVnHKyF6+oW1+zOm/TvEKN+XkiRJUjJ4vq5AqJo2yHnvWmDe5wxh2cdCfCp9DQ9BXJZ0BoxSRVBbM20k8nDGAjybnr+2XpMK3omB7dycdXxtv+l/5mUqJEmSpGKD7QtzBs+LB7/HI1aHWJEz//8d5LzHpwGt2jx/tpQxM2o1EgmYlwa5yU0ueCcGtn0gemus47dUTDsCYlHONvE335eSJElSMoCenTN4HmJjkPhFjXkvH/z1uuJr1ea5C9fGmRwSfZSyGolc34BGIl0e2ADifen6rCx3L8QX+k03ucBe15t9X0qSJEnJALqnxiFt8yCmD3H+q6ft5vvPewXEu4cw34fL8+qhN2ZxXlzMy2qlgEsb2EjEwJask82SgBZnQHwVYscq05QgHm3cYbKSJElS5w20R0IcC3FPOmB+CuL7yfW16jL/cRAfhfgrxL8hfpS0+x/0/MZAxBiWxmzOiDlsHTmNRLZroWJ3cGArvP6+nBPYDvA9KUmSJFUfTLd8h76AyZ/g6wsfZnpGD/mJcSaHPBCwfgsuvoEtCdwXZYS1E3wPSpIkqZ0GtxMh3ghxNMTbIKZ0bSVgk7SRyKJqI/372CCO4YSYwlORnFPVkgxsydocCXF4GtxugPhts6/J18K1WS0JtZIkSWr1gdvLq5zvswDizV0W1HZJD21cWS2oXc+OMZszYiQryn/6Q/6146IH4q0QZ6Wh4VSInQ1sHbsVjYZ4Rdoc5Q1J85OWWr4SxFHpeaPlczwvhNjedSdJkjS8A7XpEHtCbN7v79umLfWzLkS8T4eHtFLAfgEXZJ3otIKRV3yEb51Tou++tCPh7emeyJEFBu8XZNS10dcAM7A1f2vaDWJuv3U9PwnsLbOMp2Vs5gshXuA6lCRJav4AbS2I3/W7ftX1EC9M78+7uPDFHRrURqdt9+c0rpFI/E+NuvYmA3wDW4dsURum4SxrXb+sBZbxRTnv9etcj5IkSc0doE2AuCVjcLYIYieIu3MGcUuSw6g6JqitFnBUwEMZL/jZ9Py1DYb4TCNqDODLtx8b2Dpmyzo5Z11f0QLL+H8Frk23metSkiSpeQO0o3MGZxdVOYSr/21xhwS1jWs1Egl4JOD4gCl1esZ1CwyOrzSwdcx77T8567pv+Bt8xK8LbJN7uS4lSWo/Iy1B23pVzv0vAX4FbFpjmkvbPKjtDHwUeBtQrUHIjcCJwC9LsKKOT/0M0JvxnGXz3UQ7Rk+BaYZ7T/VdOff3AXNdlZIkSc2LK9cU+EV9j7ThQPV+G8SebRjSyo1Ezq/xwi8NmBUNHUTHn3Nqf3gDy+AetuZudafmrOurW2AZN4dYXmMZf+d6lCRJau4A7Uc5g8j70zbfL4Z4sN99T0C8rs2CWrmRyC0ZL3hFwFkBuzVpibaBeDqj9v9q8MXDDWzN3fpmQDxT43DIA1tkOQ9Nu5T2X8Y5EGu7HiVJkpo7ONs53UuWFdg+WjHtOIjXQHw4vYD2am0U1MqNRB7MeKEL69NIZFBLty3E39JBe7nZy/8lDWEaysDW/HW9L8RDVdrlv7fFlvMFEGekFxL/J8SxEBNdf5IkScMzOJsNsaxKjvl+clHnNn5lSSOREwKeyQhqj6aNRKa2wNJOhdg0uTZbUxjYhmc9j08vmH0MxLuSy2pIkiRJtQeRm0J8CeJXEN9OrsfU1kFtp/QaaSszgtqN6aGRo7p4pZcD26UkTWXKt3V8P0iSJKldhv4TIA5Ofw0/zHM4Wj6ozRz+RiJtF9j63/5qaSRJktQOw/8XQTxc5WLS77U2LRXSyo1Ebm6NRiJtF9guITkktHybZGkkSZLU6jFgM4hnW7+jW1cHtaKNRDa0WjUDm+ewdc67YgzETIhZEJtYD0mS1MkDn++1/jWTujaorZM2Cnm69RuJGNiGcUuZBLE+xMgueWe8FeKxfm+H30Os6aYuSZI6cfBzY05g64MYa52aGtR2TBuJrKjRSOTwANdLVwe22AHirxC96aYxH+IrTey+ORyv+fUVl4Xof7umwdfzkyRJaurAZxTEAVUuEt3/1tvZA8CWCmrlRiJ9NhJpRmCLackhv/EqiDXabGvZqcahzOe1+2UqMl5zCeKenM+rw9zcJUlSJwx8doS4I2fgU75dZr0aGtLyGon0piFud6tVr8AWoyBOhFheUeplECe0z2GFcWnO+/bgDny3bFHg8+qXbu6SJKndBz1rQTxSMKythHiJNWtIUJuUNhJ5wEYiTQ9stc7bPLlN3sN5791fdOC7ZocCr/scN3dJktTug54vFQxrT0K82XrVPahNz2kk8lh6/+pWqxGBLbaqcQ5U+UeKTVt8K9qqwPv3Lx347hlb4zDQ8u2zbu6SJKndBz1/LzDYOxRiNWtV16CW10jkznSPm41EGhvYjiyw/b+nxbem8RBLcl7Dtzv0nfTFnB+Zprm5S5Kkbghs061T3YKajURaK7B9tMD2/4FhCmETBjB9rcM6V0Bs16HvqJEQP67ymh+F2NtNXZIkdcKA58s5g9U7hmGZ9oH4HcSdEDekzR/WaNsKw6iAgwOuzmkk8kK3x6YHtn0LBLYmrpc4IG1HX37u6yFeU+BxEzMaj6yAeG8XfI7tmX6WfQfi/RCT3cwlSVKnDHTWTn+NzhqsNvm8tTii4jpSlbd7Idqq4UZFI5H7M4q7KG0kspHb4bAFthLEv2ps/xc3cYuZnbHt9yUhJPfxo5JwFucn3Vzj+0m7f0mSJLV7aNs53ZtVOUhcBPGhJi/HVukegbZunFDRSGSBjURaPbABxDoQV1dZVZcnHRibstVMgXi6xra/KPlxRZIkSd0a2kanFw3+ePpL/zAMDuMrBQ5P26CFg9oOAacFLLORSDsFNoAYAfE6iG9AfB3i1c292HS8qVjzH0mSJGn4Is/PCwxa923BoJbXSOSyzmskEi9M19cN6SGFn0rOo2rXwDbs9fxAgW3/U35GSJIkaTgHrScWGLRu1iIhrWgjkT06cD0dnl6frP/LvqVN2qi3YmB7RYFt//V+RkiSJGk4B62751zE+OoWCGpFGomcFrBFh66jrXPOMzzbwDaouo6CuKtGXe+HGOdnhCRJkoZ74Pq1jAHrAogdhzGo5TUSebw7GonE/+bsBeqFWNPANqja7grxRMa27zXFJEmS1DID13dC3JjubVsI8RuIzYcpqG2f7jFbmpFQ7kr3uHXJ3o/4bYFD93Y3sA26vuumjU/+DXEVxEntdjkLSZIkdU9w6xm2Zy7WSOTggBFdtk6+WyCwtfp15Vo4sEmSJEnKCmk9aTfHq7qvkUjhKr0sJ6z9uw1ehIFNkiRJaqOgNjGnkcjizm4kMuCK/TAjrD2bXITdwCZJkiRp4EGjJ23ssB/EhgFrp41CnsppJLKGtXteHT8CMS8t1XKICyC2aZMXYGCTJElS1w7mx0JsADGmxZbr5RB3Q8Tm3BEn8+FYzqheG4kMua6Tkpb0bcXAJkmSpK4buK8N8TOIJWnuWQzxk9Zo8R77QCyfyb/ifA6KPkphI5GuZmCTJElSV4W1NSDuzDiv6TaIKcO2ZNDzNn5++5W8MOOiYT0xh61vCdjT9WhgkyRJkjoxsH0rp3Pg14YhqE0MOKqXnqqNRJYxOs7kkNiS2wLiL65DA5skSZLUqYFtXk5gu6OJQa1mI5EnWCOO57hYgycq/3yp69DAJkmSJHVqYHs2J7DNb0JQ2zzg5IAl1RZgLpvGUZwU41lU7e5vuw4NbJIkSVKnBrZrcwLb5Q0MajPTi1n3ZTz5tSdx1C9HsDJr2RZDbN4F62gixBchbk8CdFwH8UGIbmywUg5s1wL7Vdx28b0sSZKkTgwD78kJbIfUOaT1BMwKuCLjCXvTELdX+ogeiFOrTPoMxKu7YP1MqhGqf5PUpysD23JgfsXtXN/LkiRJ6sRAUIL4QUYg+G4dg9rEgMMD7swIassCzgzYKmMOeyQNUOL7EJ+AmN4l6+ebOYH60C4NbB4SKUmSpK4Kbq+G+DXElRC/gjiwTkFtrbSRyPyMxPFEwAkB67gOqlbwsZzA9jcDmyRJkqSBBrXNajUSCbg74KiA8VYrs4pjc8JaQNxlYJMkSZJUNKjNDDgrPRetaiORgNkBI6xWoYq6h83AJkmSJA0ppJUbiVyekSr60kYie1utAVf3RM9hM7BJkiRJgwlqY9O9ZXfkNBLZ2moNusqT0jb+1Ur82y7uEmlgkyRJkjKCWl4jkSdtJFLXik+ouA7bAq/DZmCTJEmSqgU1G4nIwCZJkiS1WFCzkYgMbJIkSVILhbRyI5HLshqJPMa0f/2ctx0BMdqKycAmSZIkNT6ojUn3lt2e1Ujk3+x+3bbcvLDiz/MhPmz1ZGCTJEmSGhPUpqWNRJ7MCGrPBJy8HTd9t0aL+c9aSRnYJEmSpPoFtRlpI5HFGSnsnrSRyASIzSBW1ghsSyHsDCkDmyRJkjTEoLZreo20rEYi16WHRo6seNSRORdxDoh3WF0Z2CRJkjRUI7swpPUABwKfAvaqPgl/AE4uwcVV7p9U4GkmuWlJkiRJUvGgVm4kclvGbrHl6d62bXLmdECBPWx7WXE1kHvYJEmS1DFBbVrAMQGP1GokErBewTmOgLixRli7DKJk5WVgkyRJkrKD2qY5jUTuXdVIZMBz3xziriqzvQViA6svA5skSZJUPajlNRL5z/MbiQzqmcZDvB/iTIgzIN4NMcY1IAObJEmS9NyQ1hMwK+DSjJDWF3BRwCyrJQObJEmS1JygVm4kcmtOI5FtrZYMbJIkSVJzgtqaaSORhzOC2rMDayQiGdgkSZKkoQa1vEYi89IgN9lqycAmSZIkNSeo7ZIe2riysY1EJAObJEmSVCSklRuJXGwjEcnAJkmSpNYIajYSkQxskiRJasGwdlDAoxlBbUHAVwPWsVIysBnYJEmSukGrnfN1J7Bmv7/dD5wCnFaCBa4ySZIkSQa2YVCC2wO+CdwCvAP4IXB2CVa6qiRJkiR1m5IlkNrO/sCfgVuBkyr+/hBwgeWRJEnqHLbBl9rXesDhFf++2sAmSZJkYJPUGq4CXm4ZJEmSOlePJZAkSZIkA5skSZIkycAmSZIkSe3Pc9ikAYktgd2AZcA/ofSoNZEkSZKk4Q1qq0H8BiIqbssgvgLR7D3V+wMBXOR6kSRJktTtYa0E8Zd+Ya3y9kUDmyRJkiQNT2Dbr0ZYC4ilEGsY2CRJklRvNh2R8r0k5/4xwF6WSZIkSQY2qflG1mkaSZIkycAm1dmVOff3AVdZJkmSJBnYpOY7D7i+xv0/hNKDlkmSJEmShkVsAHFtlYYjv4IY1+SFsemIJElSl/C8G6mQ0v0QuwEHAC8AlgMXQ+lqayNJkiRJKnMPmyRJUpfwHDZJkiRJMrBJkiRJkgxskiRJkmRgkyRJkiQZ2CRJkiTJwCZJkiRJMrBJkiRJkgxskiRJkmRgkyRJkiQZ2CRJkiTJwCZJkiRJMrBJkiRJkgxskiRJkmRgkyRJkiQN3EhLILWtzYATKv49F/i+ZZEkSTKwSRp+44BNK/692JJIkiQZ2CS1hpuAN1kGSZKkzuU5bJIkSZJkYJMkSZIkGdgkSZIkycAmSZIkSTKwSZIkSZKBTZIkSZJkYJMkSZIkGdgkSZIkycAmSZIkSTKwSZIkSZKBTZIkSZJkYJMkSZIkGdgkSZIkycAmSZIkSTKwSZIkSZKBTZIkSZJkYJMkSZIkA5skSZIkycBWyzhgoqumpUxM14t8/6q6EjAVGGEpWsbIdJ2odYwBVrMMLWW8Y66WM8kxV8uZDIy2DM91InCuZWgpfwa+Yhlaxv5AADdZipYxJV0nO1mKlrF3uk5GWYqWcThwu2VoKScDv7UMLeVi4IuWoaU8DLxlOBfAX+glSZIkqUUZ2CRJkiTJwCZJkiRJMrDlG01yAmGjazu1CTWeQmeco9GMZjOj0no1Y713QvOJiSQnpDfSWJITrBu93jul+cRkksYNjTShCeu9k5pPTCVpcNJIqzVhvY9P1327G5Guk1IT1nujv3snpZ+RjrmKr3fHXN055ur4PNOtge0NwK0Nfo5NgfnAurUniw0hXgSx2SCf527goA5YJ58Gzmnwc7wKuLfBzzE9Xe8zOmCd/JTGN5v5GPCnBj/Hi4FHO+Sz62pgdoOf43TgWw1+jiOAf3TIQHQ+sHuDn+efwPsb/BwnA9/rgHWyQ7pOGv2DwGPAixr8HH8GPtoB6+RNwM0Nfo7N0vW+doOfZx5wQAesk88DZzf4OWYBcxv8HOul630TA5saJDaCuCh9818C3AlxNcRO1kaSJEmSgW34wtqaJL+Y7tfvjhcA/4DYwhpJkiRJqvdx9yWGfrzqWBp/zskEVh332iiTK/676Ll33fd5mLRhxuNWg2XfAN45gJpPbPBrGZWul0Y+RzPW+0RWXeC40et9tQY+T/m48xFNWO9jGvwc42j8BY7L9Wr39U76uTW+wc8xugnrfXwTtt9JFet9RQNrVX6uRr6WEU1Y72PS19Pu6718KOQUGv+jdKO/e0emn5GNXu+dMOZareKzeGkDn6fUpPXumGvgY+1Gf/dOGOJz9AFPD2XDq6epJMeSSpIkSZLgTmDQR9DVew9bAE+5TnJ/EJgMPTm//D1lHZVlFMkvV33A8pxp+4BllkySJGnYPGMJ2k6cAxE1bjdYI9WwP8mPIxdZCkmSpM5m05Hh8S2SPR9ZTrREkiRJkjRs4kiIFf32rPVBnGBtlMM9bJIkSV1iZGe9nNgB+BCwPUlnxguB70FpUesta+lUiL8Ch5BcZPsB4CwoXeNmKUmSJKnDxFshllc5H+wmiGnWRx3EPWySJElqq7C2CcTSGk08fmeNZGCTJElSu+mUpiPvIrn4Y5bXQkx3dUuSJEkysDXf5jn3lwpMI0mSJEkGtgzjhvDYJ2Al0Ftrmsdd3U03xhJIvi9a+Luj/D04yjLW1YQhPn4kMMIy+rkl10mb1bXj1sk44HXAT4FbgMUk5+QsAi4BDiv4YT0R+DKMexB6AkYEbBZwXMCifo1HVMBY4IXAkcCPSM6Rugh45wDmsQ5wKvBQuk6XAdcDH/ALuG48h635g8+9gaOAMyveF7MGMI8ZwE9IfjgKYClw5QDfW0qC1SuA04EbgWcqPmeuBD6Sfo4Vmc8n0++fFSTXxZwHfBNY3TIPyBbAZ4E/APcBS9J10gvMAb4BrFdgPpOArwBz08euBO4AjqtDKFfyw8RPKj6/3lbgMS8H/pSOzSJ9v/0e2NNyDtgRFbWvdVs3Zz7bA78EnkrXyWLgH8DrLfGQvAL4LfBkWtfl6XfCz9MxVy2zgL9VZJkFwFnATp1QmCfSF1Xr9i9gSo15rA3cvmr60SthbMXjtwl4PCCWQOzltpjrVekGWm1dfKHgPHbst24X9pvnn4DRltrA1kYOTQeO1d4XRxacx4uBZyse90waEsr//hmdc3h6o11b4LvjFmD9nAB+ecX0SysGpEFyiZUZlrqwTxVYJ08DL6sxj+nAnRXTL64IfgHcBKxhqYfkI/3WyWdypj82/SEj0v8+VfHYlcB7LOmAfKvA+ySAzWrM43Xp51VUBIPein+fZJkHbBTJzqNa6+TXNR5/QsV0vek6Kf97GfDmdi/QIpI9MP8LvARYi+RXzb2A8yte7Dk15vG3dJr5wKvhrBHQ+0n45ZMwJX38Hk9C7Or2WMjBFRvcLSR7EpYOILCNB+5Np78L2D39+2iSa+OVg9s3LbWBrY18KK31CuCG9H0xkMA2reJHjOuA7SreL5+rGBAdbakLmZN+5v8fcEA60J8C7AqcUVHPq2qE4J+k0yxJA3n5eqQvScNaOSCMtNyFvB84G3gf8AKSPQSTgW3TbfyZiu/qrEvs/COd5kngIJLzznuAN1QMgC601IO2KckPqA9X/ABVK7C9suK9dEbFeluPZA9b+TNxN0s74MB2bTreyrpNzHj8jIoflv5R8aPS5HRcVf5eepelHpBfVPwIcWo6dl2N5GixvYEvpVmlmjdX1P0UVu1k2iQdn5W/Z7Zu5wK9h9rHef62ogjVmoW8quL+Vz/3rijBNodV3P8yt8dCNgb26fdhsWAAge2TFb8oVNs4P1dx/4aW28DWJrYC9mDVIVnjBhjYTmTVHoZqh7qcwqpfSqdY7lyzawxoIPmFudZn//as+kX6Q1Xu373i/sMsd128rmKdHFHl/lkV9x9Y5f6DK+5/ieUcsBLwl7R+b2TVj6e1AtsN6TSXVvnhYzRwc3r/XyzvgAPb+YN8fHkv0INpSOvv7PT++/FIpqIqA9c7BvjYkcDdZP+YNAG4J73/rE4u4p4VRXx7lft/ld53c40PqNtY9euQBmcgge0mau86Xo1Vvw65N8HA1q4GEth6gEfSaU/OmGbDioAw2/IO2XoV6+fYKvd/Lb3vCbJ/NCz/MnqJ5ayLESR7dwL4eo2B5g01vs/vSKf5seUcsPentbsg/XdeYNu54j2UdZ7uoaw6VHI9S9zwwDaBVedHZa23XSrW2ystd6EfMuak9Tp7EI9/cUW998mY5mOs2lExeagL3KrnTdxX8f9jqhS5fAJg1iESlYn3FW6XTRkkbZezTp4h+bXOdaJusTPJuba13hf3seqHJ98XQ/cQyaFaZASyco0vTr9Eqymvq5kMvduhksBWPrz04UF+n//R98igv5u/mn7/vr/gY8rrY1n6Pqn1HimRNCZRY+3LqqM8st4n15H8QOj7pJgXsuposFMG8fhyjRcAl+W8T0ZTh6MDWvUY/V0q/v/2fvetC0xN//+WGvMoD4LWBtYk+UVVjbFtlbpnrZP9+00v+b6AHVj1o4cGb3tWtei/vcr33VYFvjtuqggaW5Gcc6LBOzwNz8uB8/rdtwHJ0RdFv8/XITnffb5lLeT7JIdaH0lyfmYR5c+huSTn31TzKPAYSf8Bv88HZgpJd+BNSc6behD4O8nhc0W+S/LeJ9NdJ4WU94otTgPXWJLzorcn+ZHobpJGeU/mvE9uJdnTXM3t6efe6HSd/L7TAlsPSdcpSJpXXNnv/k0q/v/JGvN5st9jDGyNU7lO5hdYJ2uTNF1YbOnk++K/74uNLdmQfTr971M8/5fodVi1163od8fGBrYB2ZtkT0BPOnA8iKTd+Ergg+l3+lC/zzc2sBXyrnQAeiVw2gAet3GBz6zyOlmr3zpUvpnprVKkP2YcwfP3Qleuk2fTAJDlCb9LCtuhIlTtQ3KOYP/zzBeRXGqk3Amy2jqp9blVbrY0vR7vk1YMbJ8i6RYJyfGf/a+GPWkQH/CT3DYbarDrxMCmTlZujlFuUZ73vphIcohRWLpBeQerWih/lqTRy2A+p57wu2PQzuD5l0S4gmQv2811/O5QbdNJGh4tB95N9h6AWt/neT9yz+/3Oad8vcDV6Q8XT5B033wRyWVIXkPS7XZPnr83dKDrxPdIvqkV/z2f5MiMn5FcN3gySbOjrYD/ITkK4NhBrpMn0/fjkN8nrRbY3kjSQhPgO1Q/ObPyvISFNeZVeZ8X3WysMf1+kcjyrOukLlaQ7EFYaCna4n2xKGe68vuiJ33MUks3YHuTXEwbksNOvlun746xlnZAbiY5p2MMsFE6qNmTpEvaO0jOsxnMd4ff5wNzCsmho8eRNFZo5OeW66OYn5I0PXqkyjj8E2kwWD/9HHuV66Thyucnb5z+sLEf8M+K+7+Ufm69FjgmDXO3DOc6qXdg24dVJ9n3/7D9U85j92fVBWR/R7J3rZrKX6qn1JjflIJfBJ3uwIwN5SGSi8fWQ+U6mUz2oRRTXSd18ff0y1itbUnFe6KW8vui17A2KDuT/Lg3juRchHdQfS/lYL47PApgYF5bZd2ckoa2f5Gcn357je8Ov8+H7i0kh6HelgaERn9uuT6KuS7j7ytJDrlbB/gwyWGsm/Hcw4ddJ437fobk+mv/7Hf/CpIjA15J8sPdoWmwHrZ1Uu/AdhzVr30zl9pXb98PODdNrOenHzgrM6atPMyl1qB19YzHdJsfkOyO7e88kl3w9dB/nczPWSfBc/e2SZ3omfS/o0kOh1iY8754xpIN2I4kneymAv9OBzuLhvjdsYbfHXXzH5IugnNILmHxhfT73e/zxlid5BIifSTXEVw2hM+tNQoORP3cqo9T08AGyTludw1infhdMvDtHJIfwat5nOSogRfw/IvEN32d1Duw/Svjw/ThGo/Zh+QQlrHAn0mOG11RY/rKjXhajemmVYSDuV28Uf6B5+7ZKruqjs9RuU7W5PknllfeB8nx2e5JUKfr/75YmPO+uMuSDcg2JNdMW53k1+tXUvuHoEfSdTCx4HcHXf7dUS+LSK5z9HGSQ1eH+n1+tyXNtCVJI5AlJKeV1Br3HUlyUXNIjnCaX7FOXlTxuZS3Tvzcqo/Kz5q1Mt4n46ndsM3vkuLuqPj/eTWmuzcNbGtUWSc75rxPRlQEtiGvk3oHti8McPo900AxIQ17byD/F6EnSA7nWxfYqcZ0O1cUu5t/bXhPE57jZpJf9HrSul+ZMV35cg03+FmhLnBjv23/3pz3xY2WrLDN07A2La3b/iTnTtUS6WfVHhXfD7XWxxLgTktdF09lhLJH09vaBb/P78Zzd4sYR9LAopZ1WdUVb2SVz60ZJId7VfsRfhNW/RB8k+Wui1qnjPT/Lrm0yuN7Kt5DrpN8lePQWnvJ1qyxTt5A0t5/NNW7d+6Yhra2Xye7kPyiE+nGN5AOKqenj7u/ohj9g+iD6TTfdrsctAVpDYsE8cvTaf+ccf/0dIMOil/AU2rFgVCktyMLTD83nfaMjPu3q5jfay1vIZuR7KUPkvN0pg/gsZ9NH7eY7PPYrk6nOddS183v0ppWC8A/TO+bV+P7/KF0mpMsZU0T0qBW67YireUpFX+rDGwzKj6TDsl4no+l9y+n+hE8GrjDKur+on73jaoYL3894/Evq3j8XpYz1ySSH+UC+EjGNCNJrjcYwI/63bdrRb1nZTz+i6w6BahtG1jtTNLqMkha/g60BenuJHt0sgZNH07v66P2r3aqX2B7V0XNX1zl/u+l9y/AhhnqnsD2qXTaZSQX5KxUIjkcvPzjkx0J821EcoHZIDmkZZ0BPn5DksOxg+RE//5eW+BLWKv0AFvnTPNqkoY6QdJqvr89K2r+vir3fzS9r5dV107S4JV/OP1MjWn+WvGDSP+mZVNZ9YP4LyxnIeuy6gLx1WxNsqc5SI7EGFVlmm+m9z+dfg5WGkGy4yNI9uT0WPJCfpDW7B6qNw/5YMVn0wFVvr+vSe+7pso6W6ci55zargWaWPFLQS9J++UTatz2z5jPT1n1C8+xJFeNnwF8jlW/IP3Q7XFAvtKv9uWBzaX9/v6qKo8dQXJeXJAc/nIYSYva7SrCWpDd/VNqReP7bfvfqNiW/9zvvn2qPH4CyV6FINlL8Jb0y3sX4FcV83q7pS7kzoqa/TTnu+NNGfP4Mqt+XPoGybV2Nkq/nBel911kqQsZlX6PX0xyjtoBJOd77J9+B/yGVT+uPkD2+R6/qPg+/xTJIXczgM+TNCALVl22QY0PbLv0+/7fN/3c2p/kOlXl4DDDchZyMMmP1T8huS7ei0n20Mwi2Wu8sGJM/OqMeUwj6QdR7svw6nSdvJDk1KLy4/e33AMK0uU9aDeQdFWfTnJ+9JcrPnv+mPH4F1XkjYtI9myuCxyU/tgR6fzXbdcCTav4wi1y+1LGfMaRXCog63Hn89xrvCjfsoLr5H9rbPw31njctyyx2szqA/is+njGPLZk1aGR/W+9wKctc2GLBrA+sg5D7UkHTlmPuwIP8xpIYCuyLq4Btsj5YeQvNR7/e7/PmxrYILku7sKM9TGf6h3BlR3Y8t4jC3huB9VqXsCqw4P735ZRfQ+1atuNVXuMq90upvZlYA6t+HGj/+1RkiMI6qI0DMWZQLIXrKi/pR/kWcv/FuCtFb/03AH8kqQrVbgtDshXqH4OQX//BC7MuG9s+gvSa4EN0i+HG0iO//27JVabGU/yK38RfyBpnlTNpPTL9KD0h41FwLUkew2ussyFfYnqhwtVcx3JhU+zvIrkUO5t0s+9e0n2CJ1B9mVl9HwbkbTuf1H6/2un382Pk/yAd176Hd5bYDzy1vQ7fTNWHfb6c+C3fp/X/Xv+zwW+k2cAHyDp7rlmOgD9G8mRUQ9aysImkexV25fk0Pjp6d8WkfyYdwlwJqua89SyBsnh+Pun83ma5JIm38NmI4O1evr9/Ir0+3kZyaVIzmLV+be1bAMcQdLQaipJR+KL0vfJY5ZXkiRJkiRJkiRJkiRJkiRJkiRJkiRJkiRJkiRJkiRJkiRJkiRJkiRJkiRJkiRJkiRJkiRJkiRJkiRJkiRJkiRJkiRJkiRJkiRJkiRJkiRJkiSpPfw/8oU+T6wfRTQAAAAldEVYdGRhdGU6Y3JlYXRlADIwMTctMDgtMDhUMTg6MTc6MTIrMDA6MDDaeQRQAAAAJXRFWHRkYXRlOm1vZGlmeQAyMDE3LTA4LTA4VDE4OjE3OjEyKzAwOjAwqyS87AAAAABJRU5ErkJggg==)\n"
      ]
    },
    {
      "cell_type": "markdown",
      "metadata": {
        "id": "RyPRbzCoPAwC"
      },
      "source": [
        "## Training our Model\n",
        "\n",
        "We will be using SciKit learn's train_test_split function to split our data into two separate datasets. One will be used to train our model and another will be used to evaluate our model after it has been trained. We want to use a completely separate data set \n"
      ]
    },
    {
      "cell_type": "code",
      "metadata": {
        "id": "w8wXBjoh5b5W"
      },
      "source": [
        "X_train, X_test, y_train, y_test = train_test_split(features, life_expectancy)\n",
        "linear_regression_model = LinearRegression().fit(X_train, FILL_HERE) # fill here\n"
      ],
      "execution_count": null,
      "outputs": []
    },
    {
      "cell_type": "markdown",
      "metadata": {
        "id": "dJSnQudrPLWq"
      },
      "source": [
        "## Evaluating Our Model\n",
        "\n",
        "A relevant metric for how well our linear regression model is performing is mean absolute error. This tells us on average how wrong our predictions are. For this particular problem, this is on average how many years off our life expectancy prediction is."
      ]
    },
    {
      "cell_type": "code",
      "metadata": {
        "id": "6Wcm0A065tbp"
      },
      "source": [
        "# run our trained model on our test data\n",
        "y_test_predictions = linear_regression_model.predict(X_test)"
      ],
      "execution_count": null,
      "outputs": []
    },
    {
      "cell_type": "code",
      "metadata": {
        "id": "VxjacQjZ-ADV"
      },
      "source": [
        "def calculate_mean_abs_error(predictions, labels):\n",
        "  \"\"\"\n",
        "    Calculates the mean absolute error of predictions given ground truth labels\n",
        "\n",
        "    predictions: numpy array\n",
        "    labels: numpy array of same size as preductions\n",
        "  \"\"\"\n",
        "  return np.mean(np.absolute(FILL_HERE)) #fill here"
      ],
      "execution_count": null,
      "outputs": []
    },
    {
      "cell_type": "code",
      "metadata": {
        "id": "TaDFcVmxFvgw"
      },
      "source": [
        "calculate_mean_abs_error(FILL_HERE, y_test) # fill here"
      ],
      "execution_count": null,
      "outputs": []
    },
    {
      "cell_type": "markdown",
      "metadata": {
        "id": "lXLZAJ0cUHQT"
      },
      "source": [
        "# Summary\n",
        "\n",
        "What we covered:\n",
        "\n",
        "\n",
        "*   Using Numpy Arrays\n",
        "*   Data Processing with Pandas\n",
        "*   Visualizing Data with Matplotlib\n",
        "*   Linear Regression with Scikit-learn\n",
        "\n",
        "\n",
        "Learn More with ACM AI!\n",
        "\n",
        "Facebook Group: https://facebook.com/groups/uclaacmai\n",
        "\n",
        "Mailing List: https://tinyurl.com/acmaiinterest\n",
        "\n",
        "Website: https://uclaacmai.github.io\n",
        "\n",
        "Instagram: https://www.instagram.com/acm_ai_ucla/\n",
        "\n",
        "Twitter: https://twitter.com/acm_ai_ucla\n",
        "\n",
        "\n"
      ]
    },
    {
      "cell_type": "code",
      "metadata": {
        "id": "W9qpYDoPUJNX"
      },
      "source": [
        ""
      ],
      "execution_count": null,
      "outputs": []
    }
  ]
}